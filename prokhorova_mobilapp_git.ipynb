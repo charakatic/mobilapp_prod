{
 "cells": [
  {
   "cell_type": "markdown",
   "id": "926e8509",
   "metadata": {},
   "source": [
    "## Аналитика поведения пользователей мобильного приложения \n",
    "\n",
    "Исследование проводится для стартапа, который продаёт продукты питания. \n",
    "\n",
    "Исходные данные:\n",
    "\n",
    "- название события;\n",
    "- уникальный идентификатор пользователя;\n",
    "- время события;\n",
    "- номер эксперимента и контрольных групп\n",
    "\n",
    "Цель исследования: проанализировать, как ведут себя пользователи мобильного приложения, изучив воронку продаж и результаты A/A/B-эксперимента после замены шрифта в приложении.\n",
    "\n",
    "## Подготовка и предобработка данных"
   ]
  },
  {
   "cell_type": "code",
   "execution_count": 1,
   "id": "66973e97",
   "metadata": {},
   "outputs": [],
   "source": [
    "#Загрузим библиотеки, которые понадобятся\n",
    "import pandas as pd\n",
    "import numpy as np\n",
    "import math as mth\n",
    "import matplotlib.pyplot as plt \n",
    "import matplotlib as mpl \n",
    "import plotly.express as px\n",
    "from plotly import graph_objects as go\n",
    "import seaborn as sns \n",
    "from numpy import median\n",
    "from scipy import stats as st\n",
    "import datetime as dt\n",
    "from datetime import timedelta\n",
    "\n",
    "\n",
    "import warnings\n",
    "warnings.filterwarnings('ignore')"
   ]
  },
  {
   "cell_type": "code",
   "execution_count": 2,
   "id": "7848837f",
   "metadata": {},
   "outputs": [],
   "source": [
    "import plotly.io as pio\n",
    "pio.renderers.default='notebook'"
   ]
  },
  {
   "cell_type": "code",
   "execution_count": 3,
   "id": "b8ca7126",
   "metadata": {},
   "outputs": [],
   "source": [
    "# Настройки для графиков\n",
    "sns.set(font_scale=1.3)\n",
    "sns.set_style('whitegrid',\n",
    "              {'figure.facecolor': '0.95',\n",
    "               'figure.facecolor': 'white',\n",
    "               'font.family': ['Liberation Serif']})\n",
    "\n",
    "plt.rcParams[\"font.family\"] = \"Liberation Serif\", \"Garamond\", \"serif\"\n",
    "\n",
    "my_colors =  ['rgb(146, 123, 21)', 'rgb(206, 206, 40)', 'rgb(175, 51, 21)', 'rgb(35, 36, 21)', 'rgb(24, 87, 149)', 'rgb(4, 41, 89)']"
   ]
  },
  {
   "cell_type": "code",
   "execution_count": 4,
   "id": "d0633e92",
   "metadata": {},
   "outputs": [
    {
     "data": {
      "text/html": [
       "<div>\n",
       "<style scoped>\n",
       "    .dataframe tbody tr th:only-of-type {\n",
       "        vertical-align: middle;\n",
       "    }\n",
       "\n",
       "    .dataframe tbody tr th {\n",
       "        vertical-align: top;\n",
       "    }\n",
       "\n",
       "    .dataframe thead th {\n",
       "        text-align: right;\n",
       "    }\n",
       "</style>\n",
       "<table border=\"1\" class=\"dataframe\">\n",
       "  <thead>\n",
       "    <tr style=\"text-align: right;\">\n",
       "      <th></th>\n",
       "      <th>EventName</th>\n",
       "      <th>DeviceIDHash</th>\n",
       "      <th>EventTimestamp</th>\n",
       "      <th>ExpId</th>\n",
       "    </tr>\n",
       "  </thead>\n",
       "  <tbody>\n",
       "    <tr>\n",
       "      <td>0</td>\n",
       "      <td>MainScreenAppear</td>\n",
       "      <td>4575588528974610257</td>\n",
       "      <td>1564029816</td>\n",
       "      <td>246</td>\n",
       "    </tr>\n",
       "    <tr>\n",
       "      <td>1</td>\n",
       "      <td>MainScreenAppear</td>\n",
       "      <td>7416695313311560658</td>\n",
       "      <td>1564053102</td>\n",
       "      <td>246</td>\n",
       "    </tr>\n",
       "    <tr>\n",
       "      <td>2</td>\n",
       "      <td>PaymentScreenSuccessful</td>\n",
       "      <td>3518123091307005509</td>\n",
       "      <td>1564054127</td>\n",
       "      <td>248</td>\n",
       "    </tr>\n",
       "    <tr>\n",
       "      <td>3</td>\n",
       "      <td>CartScreenAppear</td>\n",
       "      <td>3518123091307005509</td>\n",
       "      <td>1564054127</td>\n",
       "      <td>248</td>\n",
       "    </tr>\n",
       "    <tr>\n",
       "      <td>4</td>\n",
       "      <td>PaymentScreenSuccessful</td>\n",
       "      <td>6217807653094995999</td>\n",
       "      <td>1564055322</td>\n",
       "      <td>248</td>\n",
       "    </tr>\n",
       "  </tbody>\n",
       "</table>\n",
       "</div>"
      ],
      "text/plain": [
       "                 EventName         DeviceIDHash  EventTimestamp  ExpId\n",
       "0         MainScreenAppear  4575588528974610257      1564029816    246\n",
       "1         MainScreenAppear  7416695313311560658      1564053102    246\n",
       "2  PaymentScreenSuccessful  3518123091307005509      1564054127    248\n",
       "3         CartScreenAppear  3518123091307005509      1564054127    248\n",
       "4  PaymentScreenSuccessful  6217807653094995999      1564055322    248"
      ]
     },
     "execution_count": 4,
     "metadata": {},
     "output_type": "execute_result"
    }
   ],
   "source": [
    "# Прочитаем файл hypothesis и сохраним его\n",
    "try:\n",
    "    logs = pd.read_csv('/datasets/logs_exp.csv', sep='\\t')\n",
    "except:\n",
    "    logs = pd.read_csv('logs_exp.csv', sep='\\t')\n",
    "logs.head(5)"
   ]
  },
  {
   "cell_type": "markdown",
   "id": "79a63cc4",
   "metadata": {},
   "source": [
    "Каждая запись в логе — это действие пользователя, или событие.\n",
    "- EventName — название события;\n",
    "- DeviceIDHash — уникальный идентификатор пользователя;\n",
    "- EventTimestamp — время события;\n",
    "- ExpId — номер эксперимента: 246 и 247 — контрольные группы, а 248 — экспериментальная."
   ]
  },
  {
   "cell_type": "code",
   "execution_count": 5,
   "id": "688dfadc",
   "metadata": {},
   "outputs": [],
   "source": [
    "# Заменим названия столбцов\n",
    "logs = logs.rename(columns={'EventName': 'event_name', 'DeviceIDHash': 'user_id', 'EventTimestamp': 'event_datetime', 'ExpId': 'group'})"
   ]
  },
  {
   "cell_type": "code",
   "execution_count": 6,
   "id": "4eb2b38a",
   "metadata": {
    "scrolled": false
   },
   "outputs": [
    {
     "name": "stdout",
     "output_type": "stream",
     "text": [
      "<class 'pandas.core.frame.DataFrame'>\n",
      "RangeIndex: 244126 entries, 0 to 244125\n",
      "Data columns (total 4 columns):\n",
      "event_name        244126 non-null object\n",
      "user_id           244126 non-null int64\n",
      "event_datetime    244126 non-null int64\n",
      "group             244126 non-null int64\n",
      "dtypes: int64(3), object(1)\n",
      "memory usage: 7.5+ MB\n"
     ]
    }
   ],
   "source": [
    "logs.info()"
   ]
  },
  {
   "cell_type": "code",
   "execution_count": 7,
   "id": "e31fc3ad",
   "metadata": {},
   "outputs": [
    {
     "data": {
      "text/html": [
       "<div>\n",
       "<style scoped>\n",
       "    .dataframe tbody tr th:only-of-type {\n",
       "        vertical-align: middle;\n",
       "    }\n",
       "\n",
       "    .dataframe tbody tr th {\n",
       "        vertical-align: top;\n",
       "    }\n",
       "\n",
       "    .dataframe thead th {\n",
       "        text-align: right;\n",
       "    }\n",
       "</style>\n",
       "<table border=\"1\" class=\"dataframe\">\n",
       "  <thead>\n",
       "    <tr style=\"text-align: right;\">\n",
       "      <th></th>\n",
       "      <th>event_name</th>\n",
       "      <th>user_id</th>\n",
       "      <th>event_datetime</th>\n",
       "      <th>group</th>\n",
       "    </tr>\n",
       "  </thead>\n",
       "  <tbody>\n",
       "    <tr>\n",
       "      <td>0</td>\n",
       "      <td>MainScreenAppear</td>\n",
       "      <td>4575588528974610257</td>\n",
       "      <td>2019-07-25 04:43:36</td>\n",
       "      <td>246</td>\n",
       "    </tr>\n",
       "    <tr>\n",
       "      <td>1</td>\n",
       "      <td>MainScreenAppear</td>\n",
       "      <td>7416695313311560658</td>\n",
       "      <td>2019-07-25 11:11:42</td>\n",
       "      <td>246</td>\n",
       "    </tr>\n",
       "    <tr>\n",
       "      <td>2</td>\n",
       "      <td>PaymentScreenSuccessful</td>\n",
       "      <td>3518123091307005509</td>\n",
       "      <td>2019-07-25 11:28:47</td>\n",
       "      <td>248</td>\n",
       "    </tr>\n",
       "    <tr>\n",
       "      <td>3</td>\n",
       "      <td>CartScreenAppear</td>\n",
       "      <td>3518123091307005509</td>\n",
       "      <td>2019-07-25 11:28:47</td>\n",
       "      <td>248</td>\n",
       "    </tr>\n",
       "    <tr>\n",
       "      <td>4</td>\n",
       "      <td>PaymentScreenSuccessful</td>\n",
       "      <td>6217807653094995999</td>\n",
       "      <td>2019-07-25 11:48:42</td>\n",
       "      <td>248</td>\n",
       "    </tr>\n",
       "  </tbody>\n",
       "</table>\n",
       "</div>"
      ],
      "text/plain": [
       "                event_name              user_id      event_datetime  group\n",
       "0         MainScreenAppear  4575588528974610257 2019-07-25 04:43:36    246\n",
       "1         MainScreenAppear  7416695313311560658 2019-07-25 11:11:42    246\n",
       "2  PaymentScreenSuccessful  3518123091307005509 2019-07-25 11:28:47    248\n",
       "3         CartScreenAppear  3518123091307005509 2019-07-25 11:28:47    248\n",
       "4  PaymentScreenSuccessful  6217807653094995999 2019-07-25 11:48:42    248"
      ]
     },
     "execution_count": 7,
     "metadata": {},
     "output_type": "execute_result"
    }
   ],
   "source": [
    "# Приведем event_datetime к типу datetime\n",
    "logs['event_datetime'] = pd.to_datetime(logs.event_datetime, unit=\"s\")\n",
    "logs.head(5)"
   ]
  },
  {
   "cell_type": "code",
   "execution_count": 8,
   "id": "b56369be",
   "metadata": {},
   "outputs": [
    {
     "data": {
      "text/plain": [
       "event_name        0\n",
       "user_id           0\n",
       "event_datetime    0\n",
       "group             0\n",
       "dtype: int64"
      ]
     },
     "execution_count": 8,
     "metadata": {},
     "output_type": "execute_result"
    }
   ],
   "source": [
    "# Проверка на нулевые значения\n",
    "logs.isnull().sum()"
   ]
  },
  {
   "cell_type": "markdown",
   "id": "4d4e97cc",
   "metadata": {},
   "source": [
    "Нулевых значений не выявлено. Проверим, сколько уникальных group содержится в датасете."
   ]
  },
  {
   "cell_type": "code",
   "execution_count": 9,
   "id": "55bef772",
   "metadata": {},
   "outputs": [
    {
     "data": {
      "text/plain": [
       "248    85747\n",
       "246    80304\n",
       "247    78075\n",
       "Name: group, dtype: int64"
      ]
     },
     "execution_count": 9,
     "metadata": {},
     "output_type": "execute_result"
    }
   ],
   "source": [
    "# Уникальные номера group\n",
    "logs['group'].value_counts()"
   ]
  },
  {
   "cell_type": "markdown",
   "id": "b67b7948",
   "metadata": {},
   "source": [
    "Дополнительных групп, кроме ожидаемых, нет. Проверим строки на дубликаты."
   ]
  },
  {
   "cell_type": "code",
   "execution_count": 10,
   "id": "15b0f93a",
   "metadata": {},
   "outputs": [
    {
     "name": "stdout",
     "output_type": "stream",
     "text": [
      "Количество дубликатов: 413\n"
     ]
    }
   ],
   "source": [
    "print('Количество дубликатов:', logs.duplicated().sum())"
   ]
  },
  {
   "cell_type": "markdown",
   "id": "5f43b0a7",
   "metadata": {},
   "source": [
    "Обнаружены дубликаты, их можно удалить."
   ]
  },
  {
   "cell_type": "code",
   "execution_count": 11,
   "id": "b32fddfe",
   "metadata": {},
   "outputs": [
    {
     "name": "stdout",
     "output_type": "stream",
     "text": [
      "Количество дубликатов: 0\n"
     ]
    }
   ],
   "source": [
    "# Удаление дубликатов\n",
    "logs = logs.drop_duplicates()\n",
    "print('Количество дубликатов:', logs.duplicated().sum())"
   ]
  },
  {
   "cell_type": "markdown",
   "id": "82c07d87",
   "metadata": {},
   "source": [
    "Добавим столбец дат"
   ]
  },
  {
   "cell_type": "code",
   "execution_count": 12,
   "id": "de0fa18a",
   "metadata": {},
   "outputs": [
    {
     "data": {
      "text/html": [
       "<div>\n",
       "<style scoped>\n",
       "    .dataframe tbody tr th:only-of-type {\n",
       "        vertical-align: middle;\n",
       "    }\n",
       "\n",
       "    .dataframe tbody tr th {\n",
       "        vertical-align: top;\n",
       "    }\n",
       "\n",
       "    .dataframe thead th {\n",
       "        text-align: right;\n",
       "    }\n",
       "</style>\n",
       "<table border=\"1\" class=\"dataframe\">\n",
       "  <thead>\n",
       "    <tr style=\"text-align: right;\">\n",
       "      <th></th>\n",
       "      <th>event_name</th>\n",
       "      <th>user_id</th>\n",
       "      <th>event_datetime</th>\n",
       "      <th>group</th>\n",
       "      <th>date</th>\n",
       "    </tr>\n",
       "  </thead>\n",
       "  <tbody>\n",
       "    <tr>\n",
       "      <td>0</td>\n",
       "      <td>MainScreenAppear</td>\n",
       "      <td>4575588528974610257</td>\n",
       "      <td>2019-07-25 04:43:36</td>\n",
       "      <td>246</td>\n",
       "      <td>2019-07-25</td>\n",
       "    </tr>\n",
       "    <tr>\n",
       "      <td>1</td>\n",
       "      <td>MainScreenAppear</td>\n",
       "      <td>7416695313311560658</td>\n",
       "      <td>2019-07-25 11:11:42</td>\n",
       "      <td>246</td>\n",
       "      <td>2019-07-25</td>\n",
       "    </tr>\n",
       "    <tr>\n",
       "      <td>2</td>\n",
       "      <td>PaymentScreenSuccessful</td>\n",
       "      <td>3518123091307005509</td>\n",
       "      <td>2019-07-25 11:28:47</td>\n",
       "      <td>248</td>\n",
       "      <td>2019-07-25</td>\n",
       "    </tr>\n",
       "    <tr>\n",
       "      <td>3</td>\n",
       "      <td>CartScreenAppear</td>\n",
       "      <td>3518123091307005509</td>\n",
       "      <td>2019-07-25 11:28:47</td>\n",
       "      <td>248</td>\n",
       "      <td>2019-07-25</td>\n",
       "    </tr>\n",
       "    <tr>\n",
       "      <td>4</td>\n",
       "      <td>PaymentScreenSuccessful</td>\n",
       "      <td>6217807653094995999</td>\n",
       "      <td>2019-07-25 11:48:42</td>\n",
       "      <td>248</td>\n",
       "      <td>2019-07-25</td>\n",
       "    </tr>\n",
       "  </tbody>\n",
       "</table>\n",
       "</div>"
      ],
      "text/plain": [
       "                event_name              user_id      event_datetime  group  \\\n",
       "0         MainScreenAppear  4575588528974610257 2019-07-25 04:43:36    246   \n",
       "1         MainScreenAppear  7416695313311560658 2019-07-25 11:11:42    246   \n",
       "2  PaymentScreenSuccessful  3518123091307005509 2019-07-25 11:28:47    248   \n",
       "3         CartScreenAppear  3518123091307005509 2019-07-25 11:28:47    248   \n",
       "4  PaymentScreenSuccessful  6217807653094995999 2019-07-25 11:48:42    248   \n",
       "\n",
       "        date  \n",
       "0 2019-07-25  \n",
       "1 2019-07-25  \n",
       "2 2019-07-25  \n",
       "3 2019-07-25  \n",
       "4 2019-07-25  "
      ]
     },
     "execution_count": 12,
     "metadata": {},
     "output_type": "execute_result"
    }
   ],
   "source": [
    "logs['date'] = logs['event_datetime'].dt.date\n",
    "logs['date'] = pd.to_datetime(logs['date'])\n",
    "logs.head(5)"
   ]
  },
  {
   "cell_type": "markdown",
   "id": "4b354dbf",
   "metadata": {},
   "source": [
    "### Вывод\n",
    "\n",
    "Данные обработаны, пропущенных значений не выявлено, изменены названия столбцов, тип данных приведен к нужному. Удалены дубликаты. Добавлен столбец с датами."
   ]
  },
  {
   "cell_type": "markdown",
   "id": "3da396e5",
   "metadata": {},
   "source": [
    "## Изучение данных\n",
    "\n",
    "Посмотрим, сколько всего событий и уникальных пользователей в логе."
   ]
  },
  {
   "cell_type": "code",
   "execution_count": 13,
   "id": "db53a79d",
   "metadata": {
    "scrolled": false
   },
   "outputs": [
    {
     "data": {
      "text/plain": [
       "MainScreenAppear           119101\n",
       "OffersScreenAppear          46808\n",
       "CartScreenAppear            42668\n",
       "PaymentScreenSuccessful     34118\n",
       "Tutorial                     1018\n",
       "Name: event_name, dtype: int64"
      ]
     },
     "execution_count": 13,
     "metadata": {},
     "output_type": "execute_result"
    }
   ],
   "source": [
    "# Уникальные event_name\n",
    "logs['event_name'].value_counts()"
   ]
  },
  {
   "cell_type": "code",
   "execution_count": 14,
   "id": "34692a4e",
   "metadata": {},
   "outputs": [
    {
     "name": "stdout",
     "output_type": "stream",
     "text": [
      "Всего записей в log — 243713\n"
     ]
    }
   ],
   "source": [
    "# Количество записей\n",
    "logs_before = logs.shape[0]\n",
    "print('Всего записей в log —', logs_before)"
   ]
  },
  {
   "cell_type": "code",
   "execution_count": 15,
   "id": "987953d3",
   "metadata": {},
   "outputs": [
    {
     "name": "stdout",
     "output_type": "stream",
     "text": [
      "Уникальных пользователей в log — 7551\n"
     ]
    }
   ],
   "source": [
    "# Уникальные пользователи\n",
    "users_before = logs['user_id'].nunique()\n",
    "print('Уникальных пользователей в log —', users_before)"
   ]
  },
  {
   "cell_type": "code",
   "execution_count": 16,
   "id": "b5aee44c",
   "metadata": {},
   "outputs": [
    {
     "name": "stdout",
     "output_type": "stream",
     "text": [
      "В среднем, на пользователя приходится 32 события\n"
     ]
    }
   ],
   "source": [
    "# События на 1 пользователя в среднем\n",
    "print('В среднем, на пользователя приходится', int(logs_before / users_before), 'события')"
   ]
  },
  {
   "cell_type": "markdown",
   "id": "ba1beee3",
   "metadata": {},
   "source": [
    "Посмотрим максимальная и минимальная дата в датафрейме"
   ]
  },
  {
   "cell_type": "code",
   "execution_count": 17,
   "id": "82fe0579",
   "metadata": {},
   "outputs": [
    {
     "name": "stdout",
     "output_type": "stream",
     "text": [
      "Минимальная дата — 2019-07-25 04:43:36\n",
      "Максимальная дата — 2019-08-07 21:15:17\n"
     ]
    }
   ],
   "source": [
    "print('Минимальная дата —', logs['event_datetime'].min())\n",
    "print('Максимальная дата —', logs['event_datetime'].max())"
   ]
  },
  {
   "cell_type": "code",
   "execution_count": 18,
   "id": "240e71c4",
   "metadata": {},
   "outputs": [
    {
     "data": {
      "image/png": "[encoded data removed]",
      "text/plain": [
       "<Figure size 1152x576 with 1 Axes>"
      ]
     },
     "metadata": {},
     "output_type": "display_data"
    }
   ],
   "source": [
    "# Построим гистрограмму \n",
    "plt.figure(figsize=(16, 8))\n",
    "ax = sns.distplot(logs['event_datetime'], kde=False, bins=100, color='darkgreen', label='распределение событий в день') \n",
    "ax = sns.distplot(logs['date'], kde=False, bins=100, color='black', label='кол-во событий в день') \n",
    "ax.set_title(\"Распределение событий по датам\", fontsize=16, pad = 15)\n",
    "ax.set_xlabel(\"Даты\", fontsize=14)\n",
    "ax.set_ylabel(\"Количество событий\", fontsize=14)\n",
    "plt.legend()\n",
    "plt.show()"
   ]
  },
  {
   "cell_type": "markdown",
   "id": "2c5d68fc",
   "metadata": {},
   "source": [
    "По гистрограмме можно определить, что полные данные начинаются только с 01.08.2019. В данные до этого момента, вероятно, попали по некоторым пользователям предыдущие события. Отбросим даты до 01.08.2019 и будем рассматривать только полные данные за неделю до 07.08.2019."
   ]
  },
  {
   "cell_type": "code",
   "execution_count": 19,
   "id": "77d5b452",
   "metadata": {},
   "outputs": [
    {
     "data": {
      "text/html": [
       "<div>\n",
       "<style scoped>\n",
       "    .dataframe tbody tr th:only-of-type {\n",
       "        vertical-align: middle;\n",
       "    }\n",
       "\n",
       "    .dataframe tbody tr th {\n",
       "        vertical-align: top;\n",
       "    }\n",
       "\n",
       "    .dataframe thead th {\n",
       "        text-align: right;\n",
       "    }\n",
       "</style>\n",
       "<table border=\"1\" class=\"dataframe\">\n",
       "  <thead>\n",
       "    <tr style=\"text-align: right;\">\n",
       "      <th></th>\n",
       "      <th>event_name</th>\n",
       "      <th>user_id</th>\n",
       "      <th>event_datetime</th>\n",
       "      <th>group</th>\n",
       "      <th>date</th>\n",
       "    </tr>\n",
       "  </thead>\n",
       "  <tbody>\n",
       "    <tr>\n",
       "      <td>2828</td>\n",
       "      <td>Tutorial</td>\n",
       "      <td>3737462046622621720</td>\n",
       "      <td>2019-08-01 00:07:28</td>\n",
       "      <td>246</td>\n",
       "      <td>2019-08-01</td>\n",
       "    </tr>\n",
       "    <tr>\n",
       "      <td>2829</td>\n",
       "      <td>MainScreenAppear</td>\n",
       "      <td>3737462046622621720</td>\n",
       "      <td>2019-08-01 00:08:00</td>\n",
       "      <td>246</td>\n",
       "      <td>2019-08-01</td>\n",
       "    </tr>\n",
       "    <tr>\n",
       "      <td>2830</td>\n",
       "      <td>MainScreenAppear</td>\n",
       "      <td>3737462046622621720</td>\n",
       "      <td>2019-08-01 00:08:55</td>\n",
       "      <td>246</td>\n",
       "      <td>2019-08-01</td>\n",
       "    </tr>\n",
       "    <tr>\n",
       "      <td>2831</td>\n",
       "      <td>OffersScreenAppear</td>\n",
       "      <td>3737462046622621720</td>\n",
       "      <td>2019-08-01 00:08:58</td>\n",
       "      <td>246</td>\n",
       "      <td>2019-08-01</td>\n",
       "    </tr>\n",
       "    <tr>\n",
       "      <td>2832</td>\n",
       "      <td>MainScreenAppear</td>\n",
       "      <td>1433840883824088890</td>\n",
       "      <td>2019-08-01 00:08:59</td>\n",
       "      <td>247</td>\n",
       "      <td>2019-08-01</td>\n",
       "    </tr>\n",
       "  </tbody>\n",
       "</table>\n",
       "</div>"
      ],
      "text/plain": [
       "              event_name              user_id      event_datetime  group  \\\n",
       "2828            Tutorial  3737462046622621720 2019-08-01 00:07:28    246   \n",
       "2829    MainScreenAppear  3737462046622621720 2019-08-01 00:08:00    246   \n",
       "2830    MainScreenAppear  3737462046622621720 2019-08-01 00:08:55    246   \n",
       "2831  OffersScreenAppear  3737462046622621720 2019-08-01 00:08:58    246   \n",
       "2832    MainScreenAppear  1433840883824088890 2019-08-01 00:08:59    247   \n",
       "\n",
       "           date  \n",
       "2828 2019-08-01  \n",
       "2829 2019-08-01  \n",
       "2830 2019-08-01  \n",
       "2831 2019-08-01  \n",
       "2832 2019-08-01  "
      ]
     },
     "metadata": {},
     "output_type": "display_data"
    },
    {
     "name": "stdout",
     "output_type": "stream",
     "text": [
      "Всего записей в logs_date — 240887\n"
     ]
    }
   ],
   "source": [
    "# Данные с 2019-08-01\n",
    "logs_date = logs[logs['date'] >= '2019-08-01']\n",
    "display(logs_date.head(5))\n",
    "logs_after = logs_date.shape[0]\n",
    "print('Всего записей в logs_date —', logs_after)"
   ]
  },
  {
   "cell_type": "code",
   "execution_count": 20,
   "id": "04ae5330",
   "metadata": {},
   "outputs": [
    {
     "name": "stdout",
     "output_type": "stream",
     "text": [
      "Отбросили записей — 2826\n"
     ]
    }
   ],
   "source": [
    "# Отбросили записей\n",
    "print('Отбросили записей —', abs(logs_after - logs_before))"
   ]
  },
  {
   "cell_type": "code",
   "execution_count": 21,
   "id": "d7aae783",
   "metadata": {},
   "outputs": [
    {
     "name": "stdout",
     "output_type": "stream",
     "text": [
      "Уникальных пользователей в log — 7534\n"
     ]
    }
   ],
   "source": [
    "# Уникальные пользователи после\n",
    "users_after = logs_date['user_id'].nunique()\n",
    "print('Уникальных пользователей в log —', users_after)"
   ]
  },
  {
   "cell_type": "code",
   "execution_count": 22,
   "id": "b2a6a497",
   "metadata": {},
   "outputs": [
    {
     "name": "stdout",
     "output_type": "stream",
     "text": [
      "Отбросили пользователей — 17\n"
     ]
    }
   ],
   "source": [
    "# Отбросили пользователей\n",
    "print('Отбросили пользователей —', abs(users_after - users_before))"
   ]
  },
  {
   "cell_type": "code",
   "execution_count": 23,
   "id": "bbea988f",
   "metadata": {},
   "outputs": [
    {
     "name": "stdout",
     "output_type": "stream",
     "text": [
      "Относительное значение удаленных пользователей — 0.23%\n",
      "Относительное значение удаленных записей — 1.16%\n"
     ]
    }
   ],
   "source": [
    "# Относительное значение удаленных строк\n",
    "print('Относительное значение удаленных пользователей — {:.2%}'.format(abs(users_after - users_before) / users_before))\n",
    "print('Относительное значение удаленных записей — {:.2%}'.format(abs(logs_after - logs_before) / logs_before))"
   ]
  },
  {
   "cell_type": "markdown",
   "id": "89c0dc45",
   "metadata": {},
   "source": [
    "Количество отброшенных строи и пользователей не так велико (около 1% записей и менее 1% пользователей). Проверим, что пользователи всех групп остались."
   ]
  },
  {
   "cell_type": "code",
   "execution_count": 24,
   "id": "74738df2",
   "metadata": {},
   "outputs": [
    {
     "data": {
      "text/plain": [
       "248    84563\n",
       "246    79302\n",
       "247    77022\n",
       "Name: group, dtype: int64"
      ]
     },
     "execution_count": 24,
     "metadata": {},
     "output_type": "execute_result"
    }
   ],
   "source": [
    "# Уникальные group\n",
    "logs_date['group'].value_counts()"
   ]
  },
  {
   "cell_type": "markdown",
   "id": "e1df2f3c",
   "metadata": {},
   "source": [
    "Записи по пользователям всех групп остались.\n",
    "\n",
    "### Вывод \n",
    "\n",
    "Определена дата, начиная с которой данные полные (01.08.2019), отброшены более старые данные. Количество потерянных записей и пользователей не значительно для дальнейшего анализа.\n",
    "\n",
    "## Изучение воронки событий\n",
    "\n",
    "Посмотрим, какие события есть в логах и как часто они встречаются. \n"
   ]
  },
  {
   "cell_type": "code",
   "execution_count": 25,
   "id": "8a459b3f",
   "metadata": {},
   "outputs": [
    {
     "data": {
      "text/html": [
       "<style  type=\"text/css\" >\n",
       "</style><table id=\"T_f8fbefd8_21ee_11ec_9083_408d5cd1b120\" ><thead>    <tr>        <th class=\"blank level0\" ></th>        <th class=\"col_heading level0 col0\" >event_name</th>        <th class=\"col_heading level0 col1\" >count_events</th>        <th class=\"col_heading level0 col2\" >frequency</th>    </tr></thead><tbody>\n",
       "                <tr>\n",
       "                        <th id=\"T_f8fbefd8_21ee_11ec_9083_408d5cd1b120level0_row0\" class=\"row_heading level0 row0\" >0</th>\n",
       "                        <td id=\"T_f8fbefd8_21ee_11ec_9083_408d5cd1b120row0_col0\" class=\"data row0 col0\" >MainScreenAppear</td>\n",
       "                        <td id=\"T_f8fbefd8_21ee_11ec_9083_408d5cd1b120row0_col1\" class=\"data row0 col1\" >117328</td>\n",
       "                        <td id=\"T_f8fbefd8_21ee_11ec_9083_408d5cd1b120row0_col2\" class=\"data row0 col2\" >48.7%</td>\n",
       "            </tr>\n",
       "            <tr>\n",
       "                        <th id=\"T_f8fbefd8_21ee_11ec_9083_408d5cd1b120level0_row1\" class=\"row_heading level0 row1\" >1</th>\n",
       "                        <td id=\"T_f8fbefd8_21ee_11ec_9083_408d5cd1b120row1_col0\" class=\"data row1 col0\" >OffersScreenAppear</td>\n",
       "                        <td id=\"T_f8fbefd8_21ee_11ec_9083_408d5cd1b120row1_col1\" class=\"data row1 col1\" >46333</td>\n",
       "                        <td id=\"T_f8fbefd8_21ee_11ec_9083_408d5cd1b120row1_col2\" class=\"data row1 col2\" >19.2%</td>\n",
       "            </tr>\n",
       "            <tr>\n",
       "                        <th id=\"T_f8fbefd8_21ee_11ec_9083_408d5cd1b120level0_row2\" class=\"row_heading level0 row2\" >2</th>\n",
       "                        <td id=\"T_f8fbefd8_21ee_11ec_9083_408d5cd1b120row2_col0\" class=\"data row2 col0\" >CartScreenAppear</td>\n",
       "                        <td id=\"T_f8fbefd8_21ee_11ec_9083_408d5cd1b120row2_col1\" class=\"data row2 col1\" >42303</td>\n",
       "                        <td id=\"T_f8fbefd8_21ee_11ec_9083_408d5cd1b120row2_col2\" class=\"data row2 col2\" >17.6%</td>\n",
       "            </tr>\n",
       "            <tr>\n",
       "                        <th id=\"T_f8fbefd8_21ee_11ec_9083_408d5cd1b120level0_row3\" class=\"row_heading level0 row3\" >3</th>\n",
       "                        <td id=\"T_f8fbefd8_21ee_11ec_9083_408d5cd1b120row3_col0\" class=\"data row3 col0\" >PaymentScreenSuccessful</td>\n",
       "                        <td id=\"T_f8fbefd8_21ee_11ec_9083_408d5cd1b120row3_col1\" class=\"data row3 col1\" >33918</td>\n",
       "                        <td id=\"T_f8fbefd8_21ee_11ec_9083_408d5cd1b120row3_col2\" class=\"data row3 col2\" >14.1%</td>\n",
       "            </tr>\n",
       "            <tr>\n",
       "                        <th id=\"T_f8fbefd8_21ee_11ec_9083_408d5cd1b120level0_row4\" class=\"row_heading level0 row4\" >4</th>\n",
       "                        <td id=\"T_f8fbefd8_21ee_11ec_9083_408d5cd1b120row4_col0\" class=\"data row4 col0\" >Tutorial</td>\n",
       "                        <td id=\"T_f8fbefd8_21ee_11ec_9083_408d5cd1b120row4_col1\" class=\"data row4 col1\" >1005</td>\n",
       "                        <td id=\"T_f8fbefd8_21ee_11ec_9083_408d5cd1b120row4_col2\" class=\"data row4 col2\" >0.4%</td>\n",
       "            </tr>\n",
       "    </tbody></table>"
      ],
      "text/plain": [
       "<pandas.io.formats.style.Styler at 0x21da6e7ffc8>"
      ]
     },
     "execution_count": 25,
     "metadata": {},
     "output_type": "execute_result"
    }
   ],
   "source": [
    "# Сгруппируем по событиям\n",
    "logs_date_event_gr = logs_date.pivot_table(index=['event_name'], values='user_id', aggfunc='count')\n",
    "logs_date_event_gr = logs_date_event_gr.sort_values(by='user_id', ascending = False)\n",
    "logs_date_event_gr = logs_date_event_gr.rename(columns = {'user_id':'count_events'})\n",
    "logs_date_event_gr['frequency'] = logs_date_event_gr['count_events']/logs_date_event_gr['count_events'].sum()\n",
    "logs_date_event_gr = logs_date_event_gr.reset_index()\n",
    "logs_date_event_gr.style.format({('frequency'):'{:.1%}'})"
   ]
  },
  {
   "cell_type": "code",
   "execution_count": 65,
   "id": "3b5d1246",
   "metadata": {},
   "outputs": [
    {
     "data": {
      "image/svg+xml": [
       "<svg class=\"main-svg\" xmlns=\"http://www.w3.org/2000/svg\" xmlns:xlink=\"http://www.w3.org/1999/xlink\" width=\"700\" height=\"450\" style=\"\" viewBox=\"0 0 700 450\"><rect x=\"0\" y=\"0\" width=\"700\" height=\"450\" style=\"fill: rgb(255, 255, 255); fill-opacity: 1;\"/><defs id=\"defs-14f55f\"><g class=\"clips\"/><g class=\"gradients\"/></defs><g class=\"bglayer\"/><g class=\"layer-below\"><g class=\"imagelayer\"/><g class=\"shapelayer\"/></g><g class=\"cartesianlayer\"/><g class=\"polarlayer\"/><g class=\"ternarylayer\"/><g class=\"geolayer\"/><g class=\"funnelarealayer\"/><g class=\"pielayer\"><g class=\"trace\" stroke-linejoin=\"round\" style=\"opacity: 1;\"><g class=\"slice\"><path class=\"surface\" d=\"M286.835464571734,282.09407299776666a47.25,47.25 0 0 0 -3.8354645717340077,-94.34407299776663l0,-87.75a135,135 0 0 1 10.958470204954308,269.55449427933326Z\" style=\"pointer-events: all; stroke-width: 0; fill: rgb(146, 123, 21); fill-opacity: 1; stroke: rgb(68, 68, 68); stroke-opacity: 1;\"/><g class=\"slicetext\"><text data-notex=\"1\" class=\"slicetext\" transform=\"translate(374.04978987225303,231.29846123638185)translate(0.3359375,4.5)\" text-anchor=\"middle\" x=\"0\" y=\"0\" style=\"font-family: serif; font-size: 14px; fill: rgb(255, 255, 255); fill-opacity: 1; white-space: pre;\">48.7%</text></g></g><g class=\"slice\"><path class=\"surface\" d=\"M283,187.75a47.25,47.25 0 0 0 -44.183264749377976,30.504803193561038l-82.0546345345591,-31.0982226405295a135,135 0 0 1 126.23789928393708,-87.15658055303155Z\" style=\"pointer-events: all; stroke-width: 0; fill: rgb(206, 206, 40); fill-opacity: 1; stroke: rgb(68, 68, 68); stroke-opacity: 1;\"/><g class=\"slicetext\"><text data-notex=\"1\" class=\"slicetext\" transform=\"translate(231.22671153502935,160.0113860207902)translate(-0.1640625,4.5)\" text-anchor=\"middle\" x=\"0\" y=\"0\" style=\"font-family: serif; font-size: 14px; fill: rgb(68, 68, 68); fill-opacity: 1; white-space: pre;\">19.2%</text></g></g><g class=\"slice\"><path class=\"surface\" d=\"M238.81673525062203,218.25480319356103a47.25,47.25 0 0 0 9.32710187841272,48.64520323140294l-64.7328739032212,59.2428690749331a135,135 0 0 1 -26.64886250975063,-138.98629494686554Z\" style=\"pointer-events: all; stroke-width: 0; fill: rgb(175, 51, 21); fill-opacity: 1; stroke: rgb(68, 68, 68); stroke-opacity: 1;\"/><g class=\"slicetext\"><text data-notex=\"1\" class=\"slicetext\" transform=\"translate(193.50521006395377,252.15949297919246)translate(-0.1640625,4.5)\" text-anchor=\"middle\" x=\"0\" y=\"0\" style=\"font-family: serif; font-size: 14px; fill: rgb(255, 255, 255); fill-opacity: 1; white-space: pre;\">17.6%</text></g></g><g class=\"slice\"><path class=\"surface\" d=\"M248.14383712903475,266.900006424964a47.25,47.25 0 0 0 37.45592913008936,15.278417832294977l4.828137338373331,87.61707362062377a135,135 0 0 1 -107.01694037168389,-43.65262237798565Z\" style=\"pointer-events: all; stroke-width: 0; fill: rgb(35, 36, 21); fill-opacity: 1; stroke: rgb(68, 68, 68); stroke-opacity: 1;\"/><g class=\"slicetext\"><text data-notex=\"1\" class=\"slicetext\" transform=\"translate(247.2955373147585,322.53156502497905)translate(-0.1640625,4.5)\" text-anchor=\"middle\" x=\"0\" y=\"0\" style=\"font-family: serif; font-size: 14px; fill: rgb(255, 255, 255); fill-opacity: 1; white-space: pre;\">14.1%</text></g></g><g class=\"slice\"><path class=\"surface\" d=\"M285.5997662591241,282.17842425725894a47.25,47.25 0 0 0 1.235698312609874,-0.08435125949231405l7.123005633220241,87.46042128156662a135,135 0 0 1 -3.530566607456783,0.24100359854946873Z\" style=\"pointer-events: all; stroke-width: 0; fill: rgb(24, 87, 149); fill-opacity: 1; stroke: rgb(68, 68, 68); stroke-opacity: 1;\"/><g class=\"slicetext\"><text data-notex=\"1\" class=\"slicetext\" transform=\"translate(317.7017891197494,377.1517793274537)translate(-0.1640625,4.5)\" text-anchor=\"middle\" x=\"0\" y=\"0\" style=\"font-family: serif; font-size: 14px; fill: rgb(0, 0, 0); fill-opacity: 1; white-space: pre;\">0.417%</text></g></g></g></g><g class=\"sunburstlayer\"/><g class=\"glimages\"/><defs id=\"topdefs-14f55f\"><g class=\"clips\"/><clipPath id=\"legend14f55f\"><rect width=\"194\" height=\"116\" x=\"0\" y=\"0\"/></clipPath></defs><g class=\"layer-above\"><g class=\"imagelayer\"/><g class=\"shapelayer\"/></g><g class=\"infolayer\"><g class=\"legend\" pointer-events=\"all\" transform=\"translate(494.12, 100)\"><rect class=\"bg\" shape-rendering=\"crispEdges\" width=\"194\" height=\"116\" x=\"0\" y=\"0\" style=\"stroke: rgb(68, 68, 68); stroke-opacity: 1; fill: rgb(255, 255, 255); fill-opacity: 1; stroke-width: 0px;\"/><g class=\"scrollbox\" transform=\"translate(0, 0)\" clip-path=\"url('#legend14f55f')\"><g class=\"groups\"><g class=\"traces\" transform=\"translate(0, 15.6)\" style=\"opacity: 1;\"><text class=\"legendtext user-select-none\" text-anchor=\"start\" x=\"40\" y=\"5.46\" style=\"font-family: serif; font-size: 14px; fill: rgb(0, 0, 0); fill-opacity: 1; white-space: pre;\">MainScreenAppear</text><g class=\"layers\" style=\"opacity: 1;\"><g class=\"legendfill\"/><g class=\"legendlines\"/><g class=\"legendsymbols\"><g class=\"legendpoints\"><path class=\"legendpie\" d=\"M6,6H-6V-6H6Z\" transform=\"translate(20,0)\" style=\"stroke-width: 0; fill: rgb(146, 123, 21); fill-opacity: 1; stroke: rgb(68, 68, 68); stroke-opacity: 1;\"/></g></g></g><rect class=\"legendtoggle\" pointer-events=\"all\" x=\"0\" y=\"-10.6\" width=\"234\" height=\"21.2\" style=\"cursor: pointer; fill: rgb(0, 0, 0); fill-opacity: 0;\"/></g><g class=\"traces\" transform=\"translate(0, 36.8)\" style=\"opacity: 1;\"><text class=\"legendtext user-select-none\" text-anchor=\"start\" x=\"40\" y=\"5.46\" style=\"font-family: serif; font-size: 14px; fill: rgb(0, 0, 0); fill-opacity: 1; white-space: pre;\">OffersScreenAppear</text><g class=\"layers\" style=\"opacity: 1;\"><g class=\"legendfill\"/><g class=\"legendlines\"/><g class=\"legendsymbols\"><g class=\"legendpoints\"><path class=\"legendpie\" d=\"M6,6H-6V-6H6Z\" transform=\"translate(20,0)\" style=\"stroke-width: 0; fill: rgb(206, 206, 40); fill-opacity: 1; stroke: rgb(68, 68, 68); stroke-opacity: 1;\"/></g></g></g><rect class=\"legendtoggle\" pointer-events=\"all\" x=\"0\" y=\"-10.6\" width=\"234\" height=\"21.2\" style=\"cursor: pointer; fill: rgb(0, 0, 0); fill-opacity: 0;\"/></g><g class=\"traces\" transform=\"translate(0, 58)\" style=\"opacity: 1;\"><text class=\"legendtext user-select-none\" text-anchor=\"start\" x=\"40\" y=\"5.46\" style=\"font-family: serif; font-size: 14px; fill: rgb(0, 0, 0); fill-opacity: 1; white-space: pre;\">CartScreenAppear</text><g class=\"layers\" style=\"opacity: 1;\"><g class=\"legendfill\"/><g class=\"legendlines\"/><g class=\"legendsymbols\"><g class=\"legendpoints\"><path class=\"legendpie\" d=\"M6,6H-6V-6H6Z\" transform=\"translate(20,0)\" style=\"stroke-width: 0; fill: rgb(175, 51, 21); fill-opacity: 1; stroke: rgb(68, 68, 68); stroke-opacity: 1;\"/></g></g></g><rect class=\"legendtoggle\" pointer-events=\"all\" x=\"0\" y=\"-10.6\" width=\"234\" height=\"21.2\" style=\"cursor: pointer; fill: rgb(0, 0, 0); fill-opacity: 0;\"/></g><g class=\"traces\" transform=\"translate(0, 79.19999999999999)\" style=\"opacity: 1;\"><text class=\"legendtext user-select-none\" text-anchor=\"start\" x=\"40\" y=\"5.46\" style=\"font-family: serif; font-size: 14px; fill: rgb(0, 0, 0); fill-opacity: 1; white-space: pre;\">PaymentScreenSuccessful</text><g class=\"layers\" style=\"opacity: 1;\"><g class=\"legendfill\"/><g class=\"legendlines\"/><g class=\"legendsymbols\"><g class=\"legendpoints\"><path class=\"legendpie\" d=\"M6,6H-6V-6H6Z\" transform=\"translate(20,0)\" style=\"stroke-width: 0; fill: rgb(35, 36, 21); fill-opacity: 1; stroke: rgb(68, 68, 68); stroke-opacity: 1;\"/></g></g></g><rect class=\"legendtoggle\" pointer-events=\"all\" x=\"0\" y=\"-10.6\" width=\"234\" height=\"21.2\" style=\"cursor: pointer; fill: rgb(0, 0, 0); fill-opacity: 0;\"/></g><g class=\"traces\" transform=\"translate(0, 100.39999999999999)\" style=\"opacity: 1;\"><text class=\"legendtext user-select-none\" text-anchor=\"start\" x=\"40\" y=\"5.46\" style=\"font-family: serif; font-size: 14px; fill: rgb(0, 0, 0); fill-opacity: 1; white-space: pre;\">Tutorial</text><g class=\"layers\" style=\"opacity: 1;\"><g class=\"legendfill\"/><g class=\"legendlines\"/><g class=\"legendsymbols\"><g class=\"legendpoints\"><path class=\"legendpie\" d=\"M6,6H-6V-6H6Z\" transform=\"translate(20,0)\" style=\"stroke-width: 0; fill: rgb(24, 87, 149); fill-opacity: 1; stroke: rgb(68, 68, 68); stroke-opacity: 1;\"/></g></g></g><rect class=\"legendtoggle\" pointer-events=\"all\" x=\"0\" y=\"-10.6\" width=\"234\" height=\"21.2\" style=\"cursor: pointer; fill: rgb(0, 0, 0); fill-opacity: 0;\"/></g></g></g><rect class=\"scrollbar\" rx=\"20\" ry=\"3\" width=\"0\" height=\"0\" x=\"0\" y=\"0\" style=\"fill: rgb(128, 139, 164); fill-opacity: 1;\"/></g><g class=\"g-gtitle\"><text class=\"gtitle\" x=\"350\" y=\"45\" text-anchor=\"middle\" dy=\"0.7em\" style=\"font-family: serif; font-size: 20px; fill: rgb(0, 0, 0); opacity: 1; font-weight: normal; white-space: pre;\">Доли встречающихся событий в логах</text></g></g></svg>"
      ]
     },
     "metadata": {},
     "output_type": "display_data"
    }
   ],
   "source": [
    "# Построим график частоты встречающихся событий\n",
    "\n",
    "fig = go.Figure(data=[go.Pie(labels=logs_date_event_gr['event_name'], values=logs_date_event_gr['frequency'],  \n",
    "                             hole=0.35, marker_colors=my_colors)])\n",
    "fig.update_layout(\n",
    "    title={\n",
    "        'text': \"Доли встречающихся событий в логах\",\n",
    "        'y':0.9,\n",
    "        'x':0.5,\n",
    "        'xanchor': 'center',\n",
    "        'yanchor': 'top'},\n",
    "    xaxis_title=\"X Axis Title\",\n",
    "    yaxis_title=\"Y Axis Title\",\n",
    "    font=dict(\n",
    "        family=\"serif\",\n",
    "        size=14,\n",
    "        color=\"black\"))\n",
    "fig.show(\"svg\")"
   ]
  },
  {
   "cell_type": "markdown",
   "id": "744f5031",
   "metadata": {},
   "source": [
    "Чаще всего встречается событие MainScreenAppear\t - почти 50% от всех. Реже всего - Tutorial, менее 1%. Остальные события распределены примерно равномерно от 19% до 14%.\n",
    "\n",
    "Посчитаем, сколько пользователей совершали каждое из этих событий.\n",
    "Отсортируем события по числу пользователей. "
   ]
  },
  {
   "cell_type": "code",
   "execution_count": 27,
   "id": "cd99f0f4",
   "metadata": {},
   "outputs": [
    {
     "data": {
      "text/html": [
       "<style  type=\"text/css\" >\n",
       "</style><table id=\"T_fd20ef98_21ee_11ec_b92b_408d5cd1b120\" ><thead>    <tr>        <th class=\"blank level0\" ></th>        <th class=\"col_heading level0 col0\" >event_name</th>        <th class=\"col_heading level0 col1\" >unique_count_events</th>        <th class=\"col_heading level0 col2\" >conversion</th>    </tr></thead><tbody>\n",
       "                <tr>\n",
       "                        <th id=\"T_fd20ef98_21ee_11ec_b92b_408d5cd1b120level0_row0\" class=\"row_heading level0 row0\" >0</th>\n",
       "                        <td id=\"T_fd20ef98_21ee_11ec_b92b_408d5cd1b120row0_col0\" class=\"data row0 col0\" >MainScreenAppear</td>\n",
       "                        <td id=\"T_fd20ef98_21ee_11ec_b92b_408d5cd1b120row0_col1\" class=\"data row0 col1\" >7419</td>\n",
       "                        <td id=\"T_fd20ef98_21ee_11ec_b92b_408d5cd1b120row0_col2\" class=\"data row0 col2\" >98.0%</td>\n",
       "            </tr>\n",
       "            <tr>\n",
       "                        <th id=\"T_fd20ef98_21ee_11ec_b92b_408d5cd1b120level0_row1\" class=\"row_heading level0 row1\" >1</th>\n",
       "                        <td id=\"T_fd20ef98_21ee_11ec_b92b_408d5cd1b120row1_col0\" class=\"data row1 col0\" >OffersScreenAppear</td>\n",
       "                        <td id=\"T_fd20ef98_21ee_11ec_b92b_408d5cd1b120row1_col1\" class=\"data row1 col1\" >4593</td>\n",
       "                        <td id=\"T_fd20ef98_21ee_11ec_b92b_408d5cd1b120row1_col2\" class=\"data row1 col2\" >61.0%</td>\n",
       "            </tr>\n",
       "            <tr>\n",
       "                        <th id=\"T_fd20ef98_21ee_11ec_b92b_408d5cd1b120level0_row2\" class=\"row_heading level0 row2\" >2</th>\n",
       "                        <td id=\"T_fd20ef98_21ee_11ec_b92b_408d5cd1b120row2_col0\" class=\"data row2 col0\" >CartScreenAppear</td>\n",
       "                        <td id=\"T_fd20ef98_21ee_11ec_b92b_408d5cd1b120row2_col1\" class=\"data row2 col1\" >3734</td>\n",
       "                        <td id=\"T_fd20ef98_21ee_11ec_b92b_408d5cd1b120row2_col2\" class=\"data row2 col2\" >50.0%</td>\n",
       "            </tr>\n",
       "            <tr>\n",
       "                        <th id=\"T_fd20ef98_21ee_11ec_b92b_408d5cd1b120level0_row3\" class=\"row_heading level0 row3\" >3</th>\n",
       "                        <td id=\"T_fd20ef98_21ee_11ec_b92b_408d5cd1b120row3_col0\" class=\"data row3 col0\" >PaymentScreenSuccessful</td>\n",
       "                        <td id=\"T_fd20ef98_21ee_11ec_b92b_408d5cd1b120row3_col1\" class=\"data row3 col1\" >3539</td>\n",
       "                        <td id=\"T_fd20ef98_21ee_11ec_b92b_408d5cd1b120row3_col2\" class=\"data row3 col2\" >47.0%</td>\n",
       "            </tr>\n",
       "            <tr>\n",
       "                        <th id=\"T_fd20ef98_21ee_11ec_b92b_408d5cd1b120level0_row4\" class=\"row_heading level0 row4\" >4</th>\n",
       "                        <td id=\"T_fd20ef98_21ee_11ec_b92b_408d5cd1b120row4_col0\" class=\"data row4 col0\" >Tutorial</td>\n",
       "                        <td id=\"T_fd20ef98_21ee_11ec_b92b_408d5cd1b120row4_col1\" class=\"data row4 col1\" >840</td>\n",
       "                        <td id=\"T_fd20ef98_21ee_11ec_b92b_408d5cd1b120row4_col2\" class=\"data row4 col2\" >11.0%</td>\n",
       "            </tr>\n",
       "    </tbody></table>"
      ],
      "text/plain": [
       "<pandas.io.formats.style.Styler at 0x21dba6f7288>"
      ]
     },
     "execution_count": 27,
     "metadata": {},
     "output_type": "execute_result"
    }
   ],
   "source": [
    "# Сгруппируем по событиям и уникальным пользователям \n",
    "logs_date_event_gr_user = logs_date.pivot_table(index=['event_name'], values = 'user_id', aggfunc='nunique')\n",
    "logs_date_event_gr_user = logs_date_event_gr_user.sort_values(by='user_id', ascending = False)\n",
    "logs_date_event_gr_user = logs_date_event_gr_user.rename(columns = {'user_id':'unique_count_events', 'event_name':'name'}).reset_index()\n",
    "logs_date_event_gr_user['conversion'] = logs_date_event_gr_user['unique_count_events']/logs_date['user_id'].nunique()\n",
    "logs_date_event_gr_user['conversion'] = round(logs_date_event_gr_user['conversion'], 2)\n",
    "logs_date_event_gr_user[['event_name','unique_count_events', 'conversion']].style.format({('conversion'):'{:.1%}'})"
   ]
  },
  {
   "cell_type": "code",
   "execution_count": 66,
   "id": "bef5f5c1",
   "metadata": {},
   "outputs": [
    {
     "data": {
      "image/svg+xml": [
       "<svg class=\"main-svg\" xmlns=\"http://www.w3.org/2000/svg\" xmlns:xlink=\"http://www.w3.org/1999/xlink\" width=\"700\" height=\"450\" style=\"\" viewBox=\"0 0 700 450\"><rect x=\"0\" y=\"0\" width=\"700\" height=\"450\" style=\"fill: rgb(255, 255, 255); fill-opacity: 1;\"/><defs id=\"defs-703e0f\"><g class=\"clips\"><clipPath id=\"clip703e0fxyplot\" class=\"plotclip\"><rect width=\"523.3199999999999\" height=\"260\"/></clipPath><clipPath class=\"axesclip\" id=\"clip703e0fx\"><rect x=\"80\" y=\"0\" width=\"523.3199999999999\" height=\"450\"/></clipPath><clipPath class=\"axesclip\" id=\"clip703e0fy\"><rect x=\"0\" y=\"60\" width=\"700\" height=\"260\"/></clipPath><clipPath class=\"axesclip\" id=\"clip703e0fxy\"><rect x=\"80\" y=\"60\" width=\"523.3199999999999\" height=\"260\"/></clipPath></g><g class=\"gradients\"/></defs><g class=\"bglayer\"/><g class=\"layer-below\"><g class=\"imagelayer\"/><g class=\"shapelayer\"/></g><g class=\"cartesianlayer\"><g class=\"subplot xy\"><g class=\"layer-subplot\"><g class=\"shapelayer\"/><g class=\"imagelayer\"/></g><g class=\"gridlayer\"><g class=\"x\"/><g class=\"y\"><path class=\"ygrid crisp\" transform=\"translate(0,269.59000000000003)\" d=\"M80,0h523.3199999999999\" style=\"stroke: rgb(255, 255, 255); stroke-opacity: 1; stroke-width: 1px;\"/><path class=\"ygrid crisp\" transform=\"translate(0,219.18)\" d=\"M80,0h523.3199999999999\" style=\"stroke: rgb(255, 255, 255); stroke-opacity: 1; stroke-width: 1px;\"/><path class=\"ygrid crisp\" transform=\"translate(0,168.78)\" d=\"M80,0h523.3199999999999\" style=\"stroke: rgb(255, 255, 255); stroke-opacity: 1; stroke-width: 1px;\"/><path class=\"ygrid crisp\" transform=\"translate(0,118.37)\" d=\"M80,0h523.3199999999999\" style=\"stroke: rgb(255, 255, 255); stroke-opacity: 1; stroke-width: 1px;\"/><path class=\"ygrid crisp\" transform=\"translate(0,67.96)\" d=\"M80,0h523.3199999999999\" style=\"stroke: rgb(255, 255, 255); stroke-opacity: 1; stroke-width: 1px;\"/></g></g><g class=\"zerolinelayer\"><path class=\"yzl zl crisp\" transform=\"translate(0,320)\" d=\"M80,0h523.3199999999999\" style=\"stroke: rgb(255, 255, 255); stroke-opacity: 1; stroke-width: 2px;\"/></g><path class=\"xlines-below\"/><path class=\"ylines-below\"/><g class=\"overlines-below\"/><g class=\"xaxislayer-below\"/><g class=\"yaxislayer-below\"/><g class=\"overaxes-below\"/><g class=\"plot\" transform=\"translate(80, 60)\" clip-path=\"url('#clip703e0fxyplot')\"><g class=\"barlayer mlayer\"><g class=\"trace bars\" style=\"opacity: 0.8;\"><g class=\"points\"><g class=\"point\"><path d=\"M13.08,260V13H117.75V260Z\" style=\"vector-effect: non-scaling-stroke; opacity: 1; stroke-width: 10px; fill: rgb(175, 51, 21); fill-opacity: 1; stroke: rgb(255, 255, 255); stroke-opacity: 1;\"/><text class=\"bartext bartext-outside\" transform=\"translate(65.165 6)\" text-anchor=\"middle\" data-notex=\"1\" x=\"0\" y=\"0\" style=\"font-family: Garamond; font-size: 16px; fill: rgb(0, 0, 0); fill-opacity: 1; white-space: pre;\">0.98</text></g><g class=\"point\"><path d=\"M143.91,260V106.26H248.58V260Z\" style=\"vector-effect: non-scaling-stroke; opacity: 1; stroke-width: 10px; fill: rgb(175, 51, 21); fill-opacity: 1; stroke: rgb(255, 255, 255); stroke-opacity: 1;\"/><text class=\"bartext bartext-outside\" transform=\"translate(196.245 99.26)\" text-anchor=\"middle\" data-notex=\"1\" x=\"0\" y=\"0\" style=\"font-family: Garamond; font-size: 16px; fill: rgb(0, 0, 0); fill-opacity: 1; white-space: pre;\">0.61</text></g><g class=\"point\"><path d=\"M274.74,260V133.98H379.41V260Z\" style=\"vector-effect: non-scaling-stroke; opacity: 1; stroke-width: 10px; fill: rgb(175, 51, 21); fill-opacity: 1; stroke: rgb(255, 255, 255); stroke-opacity: 1;\"/><text class=\"bartext bartext-outside\" transform=\"translate(327.07500000000005 126.97999999999999)\" text-anchor=\"middle\" data-notex=\"1\" x=\"0\" y=\"0\" style=\"font-family: Garamond; font-size: 16px; fill: rgb(0, 0, 0); fill-opacity: 1; white-space: pre;\">0.5</text></g><g class=\"point\"><path d=\"M405.57,260V141.54H510.24V260Z\" style=\"vector-effect: non-scaling-stroke; opacity: 1; stroke-width: 10px; fill: rgb(175, 51, 21); fill-opacity: 1; stroke: rgb(255, 255, 255); stroke-opacity: 1;\"/><text class=\"bartext bartext-outside\" transform=\"translate(457.655 134.54)\" text-anchor=\"middle\" data-notex=\"1\" x=\"0\" y=\"0\" style=\"font-family: Garamond; font-size: 16px; fill: rgb(0, 0, 0); fill-opacity: 1; white-space: pre;\">0.47</text></g></g></g></g></g><g class=\"overplot\"/><path class=\"xlines-above crisp\" d=\"M0,0\" style=\"fill: none;\"/><path class=\"ylines-above crisp\" d=\"M0,0\" style=\"fill: none;\"/><g class=\"overlines-above\"/><g class=\"xaxislayer-above\"><g class=\"xtick\"><text text-anchor=\"start\" x=\"0\" y=\"337\" transform=\"translate(145.41,0) rotate(30,0,329)\" style=\"font-family: Garamond; font-size: 16px; fill: rgb(0, 0, 0); fill-opacity: 1; white-space: pre;\">MainScreenAppear</text></g><g class=\"xtick\"><text text-anchor=\"start\" x=\"0\" y=\"337\" transform=\"translate(276.24,0) rotate(30,0,329)\" style=\"font-family: Garamond; font-size: 16px; fill: rgb(0, 0, 0); fill-opacity: 1; white-space: pre;\">OffersScreenAppear</text></g><g class=\"xtick\"><text text-anchor=\"start\" x=\"0\" y=\"337\" transform=\"translate(407.07,0) rotate(30,0,329)\" style=\"font-family: Garamond; font-size: 16px; fill: rgb(0, 0, 0); fill-opacity: 1; white-space: pre;\">CartScreenAppear</text></g><g class=\"xtick\"><text text-anchor=\"start\" x=\"0\" y=\"337\" transform=\"translate(537.9100000000001,0) rotate(30,0,329)\" style=\"font-family: Garamond; font-size: 16px; fill: rgb(0, 0, 0); fill-opacity: 1; white-space: pre;\">PaymentScreenSuccessful</text></g></g><g class=\"yaxislayer-above\"><g class=\"ytick\"><text text-anchor=\"end\" x=\"79\" y=\"5.6\" transform=\"translate(0,320)\" style=\"font-family: Garamond; font-size: 16px; fill: rgb(0, 0, 0); fill-opacity: 1; white-space: pre;\">0</text></g><g class=\"ytick\"><text text-anchor=\"end\" x=\"79\" y=\"5.6\" transform=\"translate(0,269.59000000000003)\" style=\"font-family: Garamond; font-size: 16px; fill: rgb(0, 0, 0); fill-opacity: 1; white-space: pre;\">0.2</text></g><g class=\"ytick\"><text text-anchor=\"end\" x=\"79\" y=\"5.6\" transform=\"translate(0,219.18)\" style=\"font-family: Garamond; font-size: 16px; fill: rgb(0, 0, 0); fill-opacity: 1; white-space: pre;\">0.4</text></g><g class=\"ytick\"><text text-anchor=\"end\" x=\"79\" y=\"5.6\" transform=\"translate(0,168.78)\" style=\"font-family: Garamond; font-size: 16px; fill: rgb(0, 0, 0); fill-opacity: 1; white-space: pre;\">0.6</text></g><g class=\"ytick\"><text text-anchor=\"end\" x=\"79\" y=\"5.6\" transform=\"translate(0,118.37)\" style=\"font-family: Garamond; font-size: 16px; fill: rgb(0, 0, 0); fill-opacity: 1; white-space: pre;\">0.8</text></g><g class=\"ytick\"><text text-anchor=\"end\" x=\"79\" y=\"5.6\" transform=\"translate(0,67.96)\" style=\"font-family: Garamond; font-size: 16px; fill: rgb(0, 0, 0); fill-opacity: 1; white-space: pre;\">1</text></g></g><g class=\"overaxes-above\"/></g></g><g class=\"polarlayer\"/><g class=\"ternarylayer\"/><g class=\"geolayer\"/><g class=\"funnelarealayer\"/><g class=\"pielayer\"/><g class=\"sunburstlayer\"/><g class=\"glimages\"/><defs id=\"topdefs-703e0f\"><g class=\"clips\"/></defs><g class=\"layer-above\"><g class=\"imagelayer\"/><g class=\"shapelayer\"/></g><g class=\"infolayer\"><g class=\"g-gtitle\"><text class=\"gtitle\" x=\"350\" y=\"22.5\" text-anchor=\"middle\" dy=\"0.7em\" style=\"font-family: Garamond; font-size: 22px; fill: rgb(0, 0, 0); opacity: 1; font-weight: normal; white-space: pre;\">Конверсия событий</text></g><g class=\"g-xtitle\"/><g class=\"g-ytitle\"><text class=\"ytitle\" transform=\"rotate(-90,32,190)\" x=\"32\" y=\"190\" text-anchor=\"middle\" style=\"font-family: Garamond; font-size: 19px; fill: rgb(0, 0, 0); opacity: 1; font-weight: normal; white-space: pre;\">Процент</text></g></g></svg>"
      ]
     },
     "metadata": {},
     "output_type": "display_data"
    }
   ],
   "source": [
    "# Построим график частоты встречающихся событий для уникальных пользователей \n",
    "\n",
    "fig = px.bar(logs_date_event_gr_user, x='event_name', y='conversion',  text='conversion', height=500, width=1000)\n",
    "#fig.update_xaxes(tickangle=-15)  \n",
    "fig.update_layout(plot_bgcolor='white')\n",
    "fig.update_layout(\n",
    "    title={\n",
    "        'text': \"Конверсия событий\",\n",
    "        'y':0.95,\n",
    "        'x':0.5,\n",
    "        'xanchor': 'auto',\n",
    "        'yanchor': 'top'},\n",
    "    xaxis_title=\"\",\n",
    "    yaxis_title=\"Процент\",\n",
    "    font=dict(\n",
    "        family=\"Garamond\",\n",
    "        size=16,\n",
    "        color=\"black\"))\n",
    "fig.update_traces(textposition=\"outside\", selector=dict(type='bar'), \n",
    "                  marker_color='rgb(175, 51, 21)', marker_line_color='white',\n",
    "                  marker_line_width=10, opacity=0.8)\n",
    "\n",
    "fig.show(\"svg\")"
   ]
  },
  {
   "cell_type": "markdown",
   "id": "f5ce9faf",
   "metadata": {},
   "source": [
    "Предположительно, события выстраиваются в следующем порядке: \n",
    "- MainScreenAppear, \n",
    "- OffersScreenAppear, \n",
    "- CartScreenAppear,\n",
    "- PaymentScreenSuccessful. \n",
    "\n",
    "Событие Tutorial, вероятно, является необязательным для покупки, всего 11% пользователей им воспользовались. Для расчета воронки его можно не учитывать. \n",
    "\n",
    "Посмотрим воронку событий, какая доля пользователей переходит на следующий шаг. Нужно по каждому пользователю посчитать, в какое время он впервые совершил определённое событие. Затем найти тех, чьи события происходили в нужном порядке."
   ]
  },
  {
   "cell_type": "code",
   "execution_count": 29,
   "id": "e469fdc4",
   "metadata": {},
   "outputs": [
    {
     "data": {
      "text/html": [
       "<div>\n",
       "<style scoped>\n",
       "    .dataframe tbody tr th:only-of-type {\n",
       "        vertical-align: middle;\n",
       "    }\n",
       "\n",
       "    .dataframe tbody tr th {\n",
       "        vertical-align: top;\n",
       "    }\n",
       "\n",
       "    .dataframe thead th {\n",
       "        text-align: right;\n",
       "    }\n",
       "</style>\n",
       "<table border=\"1\" class=\"dataframe\">\n",
       "  <thead>\n",
       "    <tr style=\"text-align: right;\">\n",
       "      <th>event_name</th>\n",
       "      <th>CartScreenAppear</th>\n",
       "      <th>MainScreenAppear</th>\n",
       "      <th>OffersScreenAppear</th>\n",
       "      <th>PaymentScreenSuccessful</th>\n",
       "      <th>Tutorial</th>\n",
       "    </tr>\n",
       "    <tr>\n",
       "      <th>user_id</th>\n",
       "      <th></th>\n",
       "      <th></th>\n",
       "      <th></th>\n",
       "      <th></th>\n",
       "      <th></th>\n",
       "    </tr>\n",
       "  </thead>\n",
       "  <tbody>\n",
       "    <tr>\n",
       "      <td>6888746892508752</td>\n",
       "      <td></td>\n",
       "      <td>2019-08-06 14:06:34</td>\n",
       "      <td></td>\n",
       "      <td></td>\n",
       "      <td></td>\n",
       "    </tr>\n",
       "    <tr>\n",
       "      <td>6909561520679493</td>\n",
       "      <td>2019-08-06 18:52:58</td>\n",
       "      <td>2019-08-06 18:52:54</td>\n",
       "      <td>2019-08-06 18:53:04</td>\n",
       "      <td>2019-08-06 18:52:58</td>\n",
       "      <td></td>\n",
       "    </tr>\n",
       "    <tr>\n",
       "      <td>6922444491712477</td>\n",
       "      <td>2019-08-04 14:19:40</td>\n",
       "      <td>2019-08-04 14:19:33</td>\n",
       "      <td>2019-08-04 14:19:46</td>\n",
       "      <td>2019-08-04 14:19:40</td>\n",
       "      <td></td>\n",
       "    </tr>\n",
       "    <tr>\n",
       "      <td>7435777799948366</td>\n",
       "      <td></td>\n",
       "      <td>2019-08-05 08:06:34</td>\n",
       "      <td></td>\n",
       "      <td></td>\n",
       "      <td></td>\n",
       "    </tr>\n",
       "    <tr>\n",
       "      <td>7702139951469979</td>\n",
       "      <td>2019-08-02 14:28:45</td>\n",
       "      <td>2019-08-01 04:29:54</td>\n",
       "      <td>2019-08-01 04:29:56</td>\n",
       "      <td>2019-08-02 14:28:45</td>\n",
       "      <td></td>\n",
       "    </tr>\n",
       "    <tr>\n",
       "      <td>...</td>\n",
       "      <td>...</td>\n",
       "      <td>...</td>\n",
       "      <td>...</td>\n",
       "      <td>...</td>\n",
       "      <td>...</td>\n",
       "    </tr>\n",
       "    <tr>\n",
       "      <td>9217594193087726423</td>\n",
       "      <td>2019-08-02 09:00:58</td>\n",
       "      <td></td>\n",
       "      <td>2019-08-02 09:01:08</td>\n",
       "      <td>2019-08-02 09:00:57</td>\n",
       "      <td></td>\n",
       "    </tr>\n",
       "    <tr>\n",
       "      <td>9219463515465815368</td>\n",
       "      <td>2019-08-06 16:49:40</td>\n",
       "      <td>2019-08-05 05:26:26</td>\n",
       "      <td>2019-08-06 16:48:57</td>\n",
       "      <td>2019-08-06 16:52:16</td>\n",
       "      <td></td>\n",
       "    </tr>\n",
       "    <tr>\n",
       "      <td>9220879493065341500</td>\n",
       "      <td>2019-08-02 17:59:16</td>\n",
       "      <td>2019-08-02 17:58:48</td>\n",
       "      <td>2019-08-02 17:59:00</td>\n",
       "      <td></td>\n",
       "      <td></td>\n",
       "    </tr>\n",
       "    <tr>\n",
       "      <td>9221926045299980007</td>\n",
       "      <td></td>\n",
       "      <td>2019-08-01 17:30:27</td>\n",
       "      <td></td>\n",
       "      <td></td>\n",
       "      <td></td>\n",
       "    </tr>\n",
       "    <tr>\n",
       "      <td>9222603179720523844</td>\n",
       "      <td></td>\n",
       "      <td>2019-08-01 06:52:13</td>\n",
       "      <td></td>\n",
       "      <td></td>\n",
       "      <td></td>\n",
       "    </tr>\n",
       "  </tbody>\n",
       "</table>\n",
       "<p>7534 rows × 5 columns</p>\n",
       "</div>"
      ],
      "text/plain": [
       "event_name              CartScreenAppear     MainScreenAppear  \\\n",
       "user_id                                                         \n",
       "6888746892508752                          2019-08-06 14:06:34   \n",
       "6909561520679493     2019-08-06 18:52:58  2019-08-06 18:52:54   \n",
       "6922444491712477     2019-08-04 14:19:40  2019-08-04 14:19:33   \n",
       "7435777799948366                          2019-08-05 08:06:34   \n",
       "7702139951469979     2019-08-02 14:28:45  2019-08-01 04:29:54   \n",
       "...                                  ...                  ...   \n",
       "9217594193087726423  2019-08-02 09:00:58                        \n",
       "9219463515465815368  2019-08-06 16:49:40  2019-08-05 05:26:26   \n",
       "9220879493065341500  2019-08-02 17:59:16  2019-08-02 17:58:48   \n",
       "9221926045299980007                       2019-08-01 17:30:27   \n",
       "9222603179720523844                       2019-08-01 06:52:13   \n",
       "\n",
       "event_name            OffersScreenAppear PaymentScreenSuccessful Tutorial  \n",
       "user_id                                                                    \n",
       "6888746892508752                                                           \n",
       "6909561520679493     2019-08-06 18:53:04     2019-08-06 18:52:58           \n",
       "6922444491712477     2019-08-04 14:19:46     2019-08-04 14:19:40           \n",
       "7435777799948366                                                           \n",
       "7702139951469979     2019-08-01 04:29:56     2019-08-02 14:28:45           \n",
       "...                                  ...                     ...      ...  \n",
       "9217594193087726423  2019-08-02 09:01:08     2019-08-02 09:00:57           \n",
       "9219463515465815368  2019-08-06 16:48:57     2019-08-06 16:52:16           \n",
       "9220879493065341500  2019-08-02 17:59:00                                   \n",
       "9221926045299980007                                                        \n",
       "9222603179720523844                                                        \n",
       "\n",
       "[7534 rows x 5 columns]"
      ]
     },
     "execution_count": 29,
     "metadata": {},
     "output_type": "execute_result"
    }
   ],
   "source": [
    "# Для пользователей посчитаем время каждого первого события\n",
    "users = logs_date.pivot_table(index='user_id', columns='event_name', values='event_datetime', aggfunc='min')\n",
    "users.fillna(\"\")"
   ]
  },
  {
   "cell_type": "code",
   "execution_count": 30,
   "id": "9dc7d84a",
   "metadata": {},
   "outputs": [
    {
     "name": "stdout",
     "output_type": "stream",
     "text": [
      "Просмотр страницы main 7419\n",
      "Просмотр страницы offers 4201\n",
      "Просмотр страницы cart 1767\n",
      "Оплатили 454\n"
     ]
    }
   ],
   "source": [
    "# Шаги воронки MainScreenAppear -> OffersScreenAppear -> CartScreenAppear -> PaymentScreenSuccessful\n",
    "step_1 = ~users['MainScreenAppear'].isna()\n",
    "step_2 = step_1 & (users['OffersScreenAppear'] > users['MainScreenAppear'])\n",
    "step_3 = step_2 & (users['CartScreenAppear'] > users['OffersScreenAppear'])\n",
    "step_4 = step_3 & (users['PaymentScreenSuccessful'] > users['CartScreenAppear'])\n",
    "\n",
    "# Прошли Tutorial и оплатили \n",
    "tut_and_pay = step_4 & (users['Tutorial'])\n",
    "\n",
    "# Всего смотрели Tutorial \n",
    "tut_all = ~users['Tutorial'].isna()\n",
    "\n",
    "# Количество пользователей по шагам \n",
    "main_screen = users[step_1].shape[0]\n",
    "offers_screen = users[step_2].shape[0]\n",
    "cart_screen = users[step_3].shape[0]\n",
    "success_payment = users[step_4].shape[0]\n",
    "\n",
    "steps = ['Просмотр страницы main', 'Просмотр страницы offers', 'Просмотр страницы cart', 'Оплатили']\n",
    "count = [main_screen, offers_screen, cart_screen, success_payment]\n",
    "\n",
    "print(steps[0], main_screen)\n",
    "print(steps[1], offers_screen)\n",
    "print(steps[2], cart_screen)\n",
    "print(steps[3], success_payment)\n"
   ]
  },
  {
   "cell_type": "code",
   "execution_count": 31,
   "id": "61755ced",
   "metadata": {},
   "outputs": [
    {
     "name": "stdout",
     "output_type": "stream",
     "text": [
      "Просмотрели Tutorial и оплатили 220\n",
      "Просмотрели Tutorial всего 840\n"
     ]
    }
   ],
   "source": [
    "print('Просмотрели Tutorial и оплатили', users[tut_and_pay].shape[0])\n",
    "print('Просмотрели Tutorial всего', users[tut_all].shape[0])"
   ]
  },
  {
   "cell_type": "markdown",
   "id": "c0f54656",
   "metadata": {},
   "source": [
    "Примерно каждый четвертый, кто просматривал Tutorial в итоге произвел оплату.\n",
    "\n",
    "Построим воронку событий."
   ]
  },
  {
   "cell_type": "code",
   "execution_count": 67,
   "id": "58f1f49c",
   "metadata": {},
   "outputs": [
    {
     "data": {
      "image/svg+xml": [
       "<svg class=\"main-svg\" xmlns=\"http://www.w3.org/2000/svg\" xmlns:xlink=\"http://www.w3.org/1999/xlink\" width=\"700\" height=\"450\" style=\"\" viewBox=\"0 0 700 450\"><rect x=\"0\" y=\"0\" width=\"700\" height=\"450\" style=\"fill: rgb(255, 255, 255); fill-opacity: 1;\"/><defs id=\"defs-730018\"><g class=\"clips\"><clipPath id=\"clip730018xyplot\" class=\"plotclip\"><rect width=\"449\" height=\"270\"/></clipPath><clipPath class=\"axesclip\" id=\"clip730018x\"><rect x=\"171\" y=\"0\" width=\"449\" height=\"450\"/></clipPath><clipPath class=\"axesclip\" id=\"clip730018y\"><rect x=\"0\" y=\"100\" width=\"700\" height=\"270\"/></clipPath><clipPath class=\"axesclip\" id=\"clip730018xy\"><rect x=\"171\" y=\"100\" width=\"449\" height=\"270\"/></clipPath></g><g class=\"gradients\"/></defs><g class=\"bglayer\"/><g class=\"layer-below\"><g class=\"imagelayer\"/><g class=\"shapelayer\"/></g><g class=\"cartesianlayer\"><g class=\"subplot xy\"><g class=\"layer-subplot\"><g class=\"shapelayer\"/><g class=\"imagelayer\"/></g><g class=\"gridlayer\"><g class=\"x\"/><g class=\"y\"/></g><g class=\"zerolinelayer\"/><path class=\"xlines-below\"/><path class=\"ylines-below\"/><g class=\"overlines-below\"/><g class=\"xaxislayer-below\"/><g class=\"yaxislayer-below\"/><g class=\"overaxes-below\"/><g class=\"plot\" transform=\"translate(171, 100)\" clip-path=\"url('#clip730018xyplot')\"><g class=\"funnellayer mlayer\"><g class=\"trace bars\" style=\"opacity: 0.9;\"><g class=\"regions\"><g class=\"region\"><path d=\"M22.45,60.75L110.09,74.25H338.91L426.55,60.75Z\" style=\"stroke-width: 0; fill: rgb(0, 0, 0); fill-opacity: 0.5;\"/></g><g class=\"region\"><path d=\"M110.09,128.25L176.38,141.75H272.62L338.91,128.25Z\" style=\"stroke-width: 0; fill: rgb(0, 0, 0); fill-opacity: 0.5;\"/></g><g class=\"region\"><path d=\"M176.38,195.75L212.14,209.25H236.86L272.62,195.75Z\" style=\"stroke-width: 0; fill: rgb(0, 0, 0); fill-opacity: 0.5;\"/></g><g class=\"region\"><path d=\"\" style=\"stroke-width: 0; fill: rgb(0, 0, 0); fill-opacity: 0.5;\"/></g></g><g class=\"points\"><g class=\"point\"><path d=\"M22.45,6.75V60.75H426.55V6.75Z\" style=\"vector-effect: non-scaling-stroke; fill: rgb(64, 127, 189); fill-opacity: 1; stroke: rgb(68, 68, 68); stroke-opacity: 1; stroke-width: 0px; opacity: 1;\"/><text class=\"bartext bartext-inside\" transform=\"translate(224.3359375 29.1484375)\" text-anchor=\"middle\" data-notex=\"1\" x=\"0\" y=\"0\" style=\"font-family: serif; font-size: 14px; fill: rgb(255, 255, 255); fill-opacity: 1; white-space: pre;\"><tspan class=\"line\" dy=\"0em\" x=\"0\" y=\"0\">7419</tspan><tspan class=\"line\" dy=\"1.3em\" x=\"0\" y=\"0\">100%</tspan></text></g><g class=\"point\"><path d=\"M110.09,74.25V128.25H338.91V74.25Z\" style=\"vector-effect: non-scaling-stroke; fill: rgb(24, 87, 149); fill-opacity: 1; stroke: rgb(68, 68, 68); stroke-opacity: 1; stroke-width: 0px; opacity: 1;\"/><text class=\"bartext bartext-inside\" transform=\"translate(225 96.6484375)\" text-anchor=\"middle\" data-notex=\"1\" x=\"0\" y=\"0\" style=\"font-family: serif; font-size: 14px; fill: rgb(255, 255, 255); fill-opacity: 1; white-space: pre;\"><tspan class=\"line\" dy=\"0em\" x=\"0\" y=\"0\">4201</tspan><tspan class=\"line\" dy=\"1.3em\" x=\"0\" y=\"0\">57%</tspan></text></g><g class=\"point\"><path d=\"M176.38,141.75V195.75H272.62V141.75Z\" style=\"vector-effect: non-scaling-stroke; fill: rgb(24, 61, 109); fill-opacity: 1; stroke: rgb(68, 68, 68); stroke-opacity: 1; stroke-width: 0px; opacity: 1;\"/><text class=\"bartext bartext-inside\" transform=\"translate(224.5 164.1484375)\" text-anchor=\"middle\" data-notex=\"1\" x=\"0\" y=\"0\" style=\"font-family: serif; font-size: 14px; fill: rgb(255, 255, 255); fill-opacity: 1; white-space: pre;\"><tspan class=\"line\" dy=\"0em\" x=\"0\" y=\"0\">1767</tspan><tspan class=\"line\" dy=\"1.3em\" x=\"0\" y=\"0\">24%</tspan></text></g><g class=\"point\"><path d=\"M212.14,209.25V263.25H236.86V209.25Z\" style=\"vector-effect: non-scaling-stroke; fill: rgb(4, 41, 89); fill-opacity: 1; stroke: rgb(68, 68, 68); stroke-opacity: 1; stroke-width: 0px; opacity: 1;\"/><text class=\"bartext bartext-inside\" transform=\"translate(224.92545454545456 232.33448863636363)scale(0.8509090909090922) \" text-anchor=\"middle\" data-notex=\"1\" x=\"0\" y=\"0\" style=\"font-family: serif; font-size: 14px; fill: rgb(255, 255, 255); fill-opacity: 1; white-space: pre;\"><tspan class=\"line\" dy=\"0em\" x=\"0\" y=\"0\">454</tspan><tspan class=\"line\" dy=\"1.3em\" x=\"0\" y=\"0\">6%</tspan></text></g></g></g></g></g><g class=\"overplot\"/><path class=\"xlines-above crisp\" d=\"M0,0\" style=\"fill: none;\"/><path class=\"ylines-above crisp\" d=\"M0,0\" style=\"fill: none;\"/><g class=\"overlines-above\"/><g class=\"xaxislayer-above\"/><g class=\"yaxislayer-above\"><g class=\"ytick\"><text text-anchor=\"end\" x=\"170\" y=\"4.8999999999999995\" transform=\"translate(0,336.25)\" style=\"font-family: serif; font-size: 14px; fill: rgb(0, 0, 0); fill-opacity: 1; white-space: pre;\">Оплатили</text></g><g class=\"ytick\"><text text-anchor=\"end\" x=\"170\" y=\"4.8999999999999995\" transform=\"translate(0,268.75)\" style=\"font-family: serif; font-size: 14px; fill: rgb(0, 0, 0); fill-opacity: 1; white-space: pre;\">Просмотр страницы cart</text></g><g class=\"ytick\"><text text-anchor=\"end\" x=\"170\" y=\"4.8999999999999995\" transform=\"translate(0,201.25)\" style=\"font-family: serif; font-size: 14px; fill: rgb(0, 0, 0); fill-opacity: 1; white-space: pre;\">Просмотр страницы offers</text></g><g class=\"ytick\"><text text-anchor=\"end\" x=\"170\" y=\"4.8999999999999995\" transform=\"translate(0,133.75)\" style=\"font-family: serif; font-size: 14px; fill: rgb(0, 0, 0); fill-opacity: 1; white-space: pre;\">Просмотр страницы main</text></g></g><g class=\"overaxes-above\"/></g></g><g class=\"polarlayer\"/><g class=\"ternarylayer\"/><g class=\"geolayer\"/><g class=\"funnelarealayer\"/><g class=\"pielayer\"/><g class=\"sunburstlayer\"/><g class=\"glimages\"/><defs id=\"topdefs-730018\"><g class=\"clips\"/></defs><g class=\"layer-above\"><g class=\"imagelayer\"/><g class=\"shapelayer\"/></g><g class=\"infolayer\"><g class=\"g-gtitle\"><text class=\"gtitle\" x=\"350\" y=\"22.5\" text-anchor=\"middle\" dy=\"0.7em\" style=\"font-family: serif; font-size: 20px; fill: rgb(0, 0, 0); opacity: 1; font-weight: normal; white-space: pre;\">Воронка с учетом последовательности событий</text></g><g class=\"g-ytitle\"/></g></svg>"
      ]
     },
     "metadata": {},
     "output_type": "display_data"
    }
   ],
   "source": [
    "fig=go.Figure(go.Funnel(y=steps, x=count, textposition = \"inside\", textinfo = \"value+percent initial\",\n",
    "    opacity = 0.9, marker = {\"color\": ['rgb(64, 127, 189)','rgb(24, 87, 149)', 'rgb(24, 61, 109)', 'rgb(4, 41, 89)']}))\n",
    "fig.update_layout(\n",
    "    title={\n",
    "        'text': \"Воронка с учетом последовательности событий\",\n",
    "        'y':0.95,\n",
    "        'x':0.5,\n",
    "        'xanchor': 'auto',\n",
    "        'yanchor': 'top'},\n",
    "    font=dict(\n",
    "        family=\"serif\",\n",
    "        size=14,\n",
    "        color=\"black\"))\n",
    "fig.update_layout(plot_bgcolor='white')\n",
    "fig.show(\"svg\")"
   ]
  },
  {
   "cell_type": "markdown",
   "id": "835fdf4c",
   "metadata": {},
   "source": [
    "Всего 6% пользователей совершают оплату из всех, кто просмотрел главную страницу при движении Просмотр страницы main -> Просмотр страницы offers -> Просмотр страницы cart -> Оплатили\n",
    "\n",
    "Посмотрим, какой отсев на каждом шаге."
   ]
  },
  {
   "cell_type": "code",
   "execution_count": 33,
   "id": "6f4d9e92",
   "metadata": {},
   "outputs": [
    {
     "data": {
      "text/html": [
       "<style  type=\"text/css\" >\n",
       "</style><table id=\"T_fe691ce8_21ee_11ec_ad35_408d5cd1b120\" ><thead>    <tr>        <th class=\"blank level0\" ></th>        <th class=\"col_heading level0 col0\" >step_name</th>        <th class=\"col_heading level0 col1\" >users_per_steps</th>        <th class=\"col_heading level0 col2\" >pct_go_away</th>    </tr></thead><tbody>\n",
       "                <tr>\n",
       "                        <th id=\"T_fe691ce8_21ee_11ec_ad35_408d5cd1b120level0_row0\" class=\"row_heading level0 row0\" >0</th>\n",
       "                        <td id=\"T_fe691ce8_21ee_11ec_ad35_408d5cd1b120row0_col0\" class=\"data row0 col0\" >Просмотр страницы main</td>\n",
       "                        <td id=\"T_fe691ce8_21ee_11ec_ad35_408d5cd1b120row0_col1\" class=\"data row0 col1\" >7419</td>\n",
       "                        <td id=\"T_fe691ce8_21ee_11ec_ad35_408d5cd1b120row0_col2\" class=\"data row0 col2\" >nan%</td>\n",
       "            </tr>\n",
       "            <tr>\n",
       "                        <th id=\"T_fe691ce8_21ee_11ec_ad35_408d5cd1b120level0_row1\" class=\"row_heading level0 row1\" >1</th>\n",
       "                        <td id=\"T_fe691ce8_21ee_11ec_ad35_408d5cd1b120row1_col0\" class=\"data row1 col0\" >Просмотр страницы offers</td>\n",
       "                        <td id=\"T_fe691ce8_21ee_11ec_ad35_408d5cd1b120row1_col1\" class=\"data row1 col1\" >4201</td>\n",
       "                        <td id=\"T_fe691ce8_21ee_11ec_ad35_408d5cd1b120row1_col2\" class=\"data row1 col2\" >43.4%</td>\n",
       "            </tr>\n",
       "            <tr>\n",
       "                        <th id=\"T_fe691ce8_21ee_11ec_ad35_408d5cd1b120level0_row2\" class=\"row_heading level0 row2\" >2</th>\n",
       "                        <td id=\"T_fe691ce8_21ee_11ec_ad35_408d5cd1b120row2_col0\" class=\"data row2 col0\" >Просмотр страницы cart</td>\n",
       "                        <td id=\"T_fe691ce8_21ee_11ec_ad35_408d5cd1b120row2_col1\" class=\"data row2 col1\" >1767</td>\n",
       "                        <td id=\"T_fe691ce8_21ee_11ec_ad35_408d5cd1b120row2_col2\" class=\"data row2 col2\" >57.9%</td>\n",
       "            </tr>\n",
       "            <tr>\n",
       "                        <th id=\"T_fe691ce8_21ee_11ec_ad35_408d5cd1b120level0_row3\" class=\"row_heading level0 row3\" >3</th>\n",
       "                        <td id=\"T_fe691ce8_21ee_11ec_ad35_408d5cd1b120row3_col0\" class=\"data row3 col0\" >Оплатили</td>\n",
       "                        <td id=\"T_fe691ce8_21ee_11ec_ad35_408d5cd1b120row3_col1\" class=\"data row3 col1\" >454</td>\n",
       "                        <td id=\"T_fe691ce8_21ee_11ec_ad35_408d5cd1b120row3_col2\" class=\"data row3 col2\" >74.3%</td>\n",
       "            </tr>\n",
       "    </tbody></table>"
      ],
      "text/plain": [
       "<pandas.io.formats.style.Styler at 0x21dba9512c8>"
      ]
     },
     "execution_count": 33,
     "metadata": {},
     "output_type": "execute_result"
    }
   ],
   "source": [
    "# Посмотрим, какая доля пользователей проходит на следующий шаг воронки от числа пользователей на предыдущем\n",
    "funnel = pd.DataFrame(count, steps).reset_index()\n",
    "funnel['pct_go_away'] = abs(funnel[0].pct_change(axis=0))\n",
    "funnel = funnel.rename({0: 'users_per_steps', 'index': 'step_name'}, axis='columns')\n",
    "funnel.style.format({('pct_go_away'):'{:.1%}'})"
   ]
  },
  {
   "cell_type": "markdown",
   "id": "8457dc79",
   "metadata": {},
   "source": [
    "Больше всего пользователей в процентном отношении отсеялось на последнем шаге (74%) между событиями Просмотр страницы cart (CartScreenAppear) и Оплатили (PaymentScreenSuccessful), требуется проверка платежного окна.\n",
    "\n",
    "Посмотрим, сколько времени чаще всего требуется от начала работы до использования Tutorial. Сгруппируем по пользователям таблицу, оставив только тех пользователей, кто пользовался Tutorial. "
   ]
  },
  {
   "cell_type": "code",
   "execution_count": 34,
   "id": "4e1e10e8",
   "metadata": {},
   "outputs": [
    {
     "data": {
      "text/html": [
       "<div>\n",
       "<style scoped>\n",
       "    .dataframe tbody tr th:only-of-type {\n",
       "        vertical-align: middle;\n",
       "    }\n",
       "\n",
       "    .dataframe tbody tr th {\n",
       "        vertical-align: top;\n",
       "    }\n",
       "\n",
       "    .dataframe thead th {\n",
       "        text-align: right;\n",
       "    }\n",
       "</style>\n",
       "<table border=\"1\" class=\"dataframe\">\n",
       "  <thead>\n",
       "    <tr style=\"text-align: right;\">\n",
       "      <th>event_name</th>\n",
       "      <th>CartScreenAppear</th>\n",
       "      <th>MainScreenAppear</th>\n",
       "      <th>OffersScreenAppear</th>\n",
       "      <th>PaymentScreenSuccessful</th>\n",
       "      <th>Tutorial</th>\n",
       "    </tr>\n",
       "    <tr>\n",
       "      <th>user_id</th>\n",
       "      <th></th>\n",
       "      <th></th>\n",
       "      <th></th>\n",
       "      <th></th>\n",
       "      <th></th>\n",
       "    </tr>\n",
       "  </thead>\n",
       "  <tbody>\n",
       "    <tr>\n",
       "      <td>9841258664663090</td>\n",
       "      <td>2019-08-03 10:52:15</td>\n",
       "      <td>2019-08-03 10:47:59</td>\n",
       "      <td>2019-08-03 10:49:42</td>\n",
       "      <td>2019-08-03 17:57:27</td>\n",
       "      <td>2019-08-03 10:47:28</td>\n",
       "    </tr>\n",
       "    <tr>\n",
       "      <td>29094035245869447</td>\n",
       "      <td>2019-08-02 13:15:22</td>\n",
       "      <td>2019-08-02 13:13:24</td>\n",
       "      <td>2019-08-02 13:13:43</td>\n",
       "      <td>2019-08-02 15:23:05</td>\n",
       "      <td>2019-08-02 13:13:20</td>\n",
       "    </tr>\n",
       "    <tr>\n",
       "      <td>41866159597273689</td>\n",
       "      <td>NaT</td>\n",
       "      <td>2019-08-03 13:31:36</td>\n",
       "      <td>2019-08-04 14:56:47</td>\n",
       "      <td>NaT</td>\n",
       "      <td>2019-08-03 13:31:03</td>\n",
       "    </tr>\n",
       "    <tr>\n",
       "      <td>51078901260117593</td>\n",
       "      <td>NaT</td>\n",
       "      <td>2019-08-04 05:22:29</td>\n",
       "      <td>NaT</td>\n",
       "      <td>NaT</td>\n",
       "      <td>2019-08-04 05:34:44</td>\n",
       "    </tr>\n",
       "    <tr>\n",
       "      <td>65731010663501604</td>\n",
       "      <td>NaT</td>\n",
       "      <td>2019-08-03 11:07:32</td>\n",
       "      <td>NaT</td>\n",
       "      <td>NaT</td>\n",
       "      <td>2019-08-03 11:07:34</td>\n",
       "    </tr>\n",
       "  </tbody>\n",
       "</table>\n",
       "</div>"
      ],
      "text/plain": [
       "event_name           CartScreenAppear    MainScreenAppear  OffersScreenAppear  \\\n",
       "user_id                                                                         \n",
       "9841258664663090  2019-08-03 10:52:15 2019-08-03 10:47:59 2019-08-03 10:49:42   \n",
       "29094035245869447 2019-08-02 13:15:22 2019-08-02 13:13:24 2019-08-02 13:13:43   \n",
       "41866159597273689                 NaT 2019-08-03 13:31:36 2019-08-04 14:56:47   \n",
       "51078901260117593                 NaT 2019-08-04 05:22:29                 NaT   \n",
       "65731010663501604                 NaT 2019-08-03 11:07:32                 NaT   \n",
       "\n",
       "event_name        PaymentScreenSuccessful            Tutorial  \n",
       "user_id                                                        \n",
       "9841258664663090      2019-08-03 17:57:27 2019-08-03 10:47:28  \n",
       "29094035245869447     2019-08-02 15:23:05 2019-08-02 13:13:20  \n",
       "41866159597273689                     NaT 2019-08-03 13:31:03  \n",
       "51078901260117593                     NaT 2019-08-04 05:34:44  \n",
       "65731010663501604                     NaT 2019-08-03 11:07:34  "
      ]
     },
     "execution_count": 34,
     "metadata": {},
     "output_type": "execute_result"
    }
   ],
   "source": [
    "gr_user_tut = logs_date.pivot_table(index=['user_id'], columns = 'event_name', values = 'event_datetime', aggfunc='min')\n",
    "gr_user_tut.dropna(subset = ['Tutorial'], inplace = True) \n",
    "gr_user_tut.head()"
   ]
  },
  {
   "cell_type": "code",
   "execution_count": 35,
   "id": "dd159513",
   "metadata": {},
   "outputs": [
    {
     "name": "stdout",
     "output_type": "stream",
     "text": [
      "Медианное время от MainScreen до Tutorial, сек -  30.0\n"
     ]
    }
   ],
   "source": [
    "gr_user_tut['timedel_main'] = (gr_user_tut['MainScreenAppear'] - gr_user_tut['Tutorial']) / np.timedelta64(1, 's')\n",
    "print('Медианное время от MainScreen до Tutorial, сек - ', gr_user_tut['timedel_main'].median())"
   ]
  },
  {
   "cell_type": "code",
   "execution_count": 36,
   "id": "c6dd39c6",
   "metadata": {},
   "outputs": [
    {
     "name": "stdout",
     "output_type": "stream",
     "text": [
      "Медианное время от OffersScreen до Tutorial, сек -  90.0\n"
     ]
    }
   ],
   "source": [
    "gr_user_tut['timedel_offer'] = (gr_user_tut['OffersScreenAppear'] - gr_user_tut['Tutorial']) / np.timedelta64(1, 's')\n",
    "print('Медианное время от OffersScreen до Tutorial, сек - ', gr_user_tut['timedel_offer'].median())"
   ]
  },
  {
   "cell_type": "code",
   "execution_count": 37,
   "id": "5ce97980",
   "metadata": {},
   "outputs": [
    {
     "name": "stdout",
     "output_type": "stream",
     "text": [
      "Медианное время от CartScreen до Tutorial, сек -  153.0\n"
     ]
    }
   ],
   "source": [
    "gr_user_tut['timedel_cart'] = (gr_user_tut['CartScreenAppear'] - gr_user_tut['Tutorial']) / np.timedelta64(1, 's')\n",
    "print('Медианное время от CartScreen до Tutorial, сек - ', gr_user_tut['timedel_cart'].median())"
   ]
  },
  {
   "cell_type": "code",
   "execution_count": 38,
   "id": "ab46eab8",
   "metadata": {},
   "outputs": [
    {
     "name": "stdout",
     "output_type": "stream",
     "text": [
      "Медианное время от PaymentScreen до Tutorial, сек -  552.0\n"
     ]
    }
   ],
   "source": [
    "gr_user_tut['timedel_pay'] = (gr_user_tut['PaymentScreenSuccessful'] - gr_user_tut['Tutorial']) / np.timedelta64(1, 's')\n",
    "print('Медианное время от PaymentScreen до Tutorial, сек - ', gr_user_tut['timedel_pay'].median())"
   ]
  },
  {
   "cell_type": "code",
   "execution_count": 39,
   "id": "bb689b4b",
   "metadata": {},
   "outputs": [
    {
     "data": {
      "text/html": [
       "<div>\n",
       "<style scoped>\n",
       "    .dataframe tbody tr th:only-of-type {\n",
       "        vertical-align: middle;\n",
       "    }\n",
       "\n",
       "    .dataframe tbody tr th {\n",
       "        vertical-align: top;\n",
       "    }\n",
       "\n",
       "    .dataframe thead th {\n",
       "        text-align: right;\n",
       "    }\n",
       "</style>\n",
       "<table border=\"1\" class=\"dataframe\">\n",
       "  <thead>\n",
       "    <tr style=\"text-align: right;\">\n",
       "      <th>event_name</th>\n",
       "      <th>CartScreenAppear</th>\n",
       "      <th>MainScreenAppear</th>\n",
       "      <th>OffersScreenAppear</th>\n",
       "      <th>PaymentScreenSuccessful</th>\n",
       "      <th>Tutorial</th>\n",
       "      <th>timedel_main</th>\n",
       "      <th>timedel_offer</th>\n",
       "      <th>timedel_cart</th>\n",
       "      <th>timedel_pay</th>\n",
       "    </tr>\n",
       "    <tr>\n",
       "      <th>user_id</th>\n",
       "      <th></th>\n",
       "      <th></th>\n",
       "      <th></th>\n",
       "      <th></th>\n",
       "      <th></th>\n",
       "      <th></th>\n",
       "      <th></th>\n",
       "      <th></th>\n",
       "      <th></th>\n",
       "    </tr>\n",
       "  </thead>\n",
       "  <tbody>\n",
       "    <tr>\n",
       "      <td>9841258664663090</td>\n",
       "      <td>2019-08-03 10:52:15</td>\n",
       "      <td>2019-08-03 10:47:59</td>\n",
       "      <td>2019-08-03 10:49:42</td>\n",
       "      <td>2019-08-03 17:57:27</td>\n",
       "      <td>2019-08-03 10:47:28</td>\n",
       "      <td>31.0</td>\n",
       "      <td>134.0</td>\n",
       "      <td>287.0</td>\n",
       "      <td>25799.0</td>\n",
       "    </tr>\n",
       "    <tr>\n",
       "      <td>29094035245869447</td>\n",
       "      <td>2019-08-02 13:15:22</td>\n",
       "      <td>2019-08-02 13:13:24</td>\n",
       "      <td>2019-08-02 13:13:43</td>\n",
       "      <td>2019-08-02 15:23:05</td>\n",
       "      <td>2019-08-02 13:13:20</td>\n",
       "      <td>4.0</td>\n",
       "      <td>23.0</td>\n",
       "      <td>122.0</td>\n",
       "      <td>7785.0</td>\n",
       "    </tr>\n",
       "    <tr>\n",
       "      <td>41866159597273689</td>\n",
       "      <td>NaT</td>\n",
       "      <td>2019-08-03 13:31:36</td>\n",
       "      <td>2019-08-04 14:56:47</td>\n",
       "      <td>NaT</td>\n",
       "      <td>2019-08-03 13:31:03</td>\n",
       "      <td>33.0</td>\n",
       "      <td>91544.0</td>\n",
       "      <td>NaN</td>\n",
       "      <td>NaN</td>\n",
       "    </tr>\n",
       "    <tr>\n",
       "      <td>51078901260117593</td>\n",
       "      <td>NaT</td>\n",
       "      <td>2019-08-04 05:22:29</td>\n",
       "      <td>NaT</td>\n",
       "      <td>NaT</td>\n",
       "      <td>2019-08-04 05:34:44</td>\n",
       "      <td>-735.0</td>\n",
       "      <td>NaN</td>\n",
       "      <td>NaN</td>\n",
       "      <td>NaN</td>\n",
       "    </tr>\n",
       "    <tr>\n",
       "      <td>65731010663501604</td>\n",
       "      <td>NaT</td>\n",
       "      <td>2019-08-03 11:07:32</td>\n",
       "      <td>NaT</td>\n",
       "      <td>NaT</td>\n",
       "      <td>2019-08-03 11:07:34</td>\n",
       "      <td>-2.0</td>\n",
       "      <td>NaN</td>\n",
       "      <td>NaN</td>\n",
       "      <td>NaN</td>\n",
       "    </tr>\n",
       "  </tbody>\n",
       "</table>\n",
       "</div>"
      ],
      "text/plain": [
       "event_name           CartScreenAppear    MainScreenAppear  OffersScreenAppear  \\\n",
       "user_id                                                                         \n",
       "9841258664663090  2019-08-03 10:52:15 2019-08-03 10:47:59 2019-08-03 10:49:42   \n",
       "29094035245869447 2019-08-02 13:15:22 2019-08-02 13:13:24 2019-08-02 13:13:43   \n",
       "41866159597273689                 NaT 2019-08-03 13:31:36 2019-08-04 14:56:47   \n",
       "51078901260117593                 NaT 2019-08-04 05:22:29                 NaT   \n",
       "65731010663501604                 NaT 2019-08-03 11:07:32                 NaT   \n",
       "\n",
       "event_name        PaymentScreenSuccessful            Tutorial  timedel_main  \\\n",
       "user_id                                                                       \n",
       "9841258664663090      2019-08-03 17:57:27 2019-08-03 10:47:28          31.0   \n",
       "29094035245869447     2019-08-02 15:23:05 2019-08-02 13:13:20           4.0   \n",
       "41866159597273689                     NaT 2019-08-03 13:31:03          33.0   \n",
       "51078901260117593                     NaT 2019-08-04 05:34:44        -735.0   \n",
       "65731010663501604                     NaT 2019-08-03 11:07:34          -2.0   \n",
       "\n",
       "event_name         timedel_offer  timedel_cart  timedel_pay  \n",
       "user_id                                                      \n",
       "9841258664663090           134.0         287.0      25799.0  \n",
       "29094035245869447           23.0         122.0       7785.0  \n",
       "41866159597273689        91544.0           NaN          NaN  \n",
       "51078901260117593            NaN           NaN          NaN  \n",
       "65731010663501604            NaN           NaN          NaN  "
      ]
     },
     "execution_count": 39,
     "metadata": {},
     "output_type": "execute_result"
    }
   ],
   "source": [
    "gr_user_tut.head(5)"
   ]
  },
  {
   "cell_type": "markdown",
   "id": "132154c3",
   "metadata": {},
   "source": [
    "Разброс до первого просмотра Tutorial широкий, иногда пользователи смотрят справочный раздел и только после — другие страницы. Однозначеные выводы о типе поведения пользователей при просмотре этого раздела сделать сложно, по медианным значениям наименьшее время между просмотром MainScreen и Tutorial — 30 секунд. "
   ]
  },
  {
   "cell_type": "markdown",
   "id": "be405432",
   "metadata": {},
   "source": [
    "Построим воронку без учета последовательности событий, чтобы учесть все возможные пути. В logs_date_event_gr_user посчитана общая конверсия."
   ]
  },
  {
   "cell_type": "code",
   "execution_count": 40,
   "id": "e37f3ac3",
   "metadata": {},
   "outputs": [
    {
     "data": {
      "text/html": [
       "<style  type=\"text/css\" >\n",
       "</style><table id=\"T_fe9cb3ba_21ee_11ec_b609_408d5cd1b120\" ><thead>    <tr>        <th class=\"blank level0\" ></th>        <th class=\"col_heading level0 col0\" >event_name</th>        <th class=\"col_heading level0 col1\" >name</th>        <th class=\"col_heading level0 col2\" >unique_count_events</th>        <th class=\"col_heading level0 col3\" >conversion</th>        <th class=\"col_heading level0 col4\" >pct_go_away</th>    </tr></thead><tbody>\n",
       "                <tr>\n",
       "                        <th id=\"T_fe9cb3ba_21ee_11ec_b609_408d5cd1b120level0_row0\" class=\"row_heading level0 row0\" >0</th>\n",
       "                        <td id=\"T_fe9cb3ba_21ee_11ec_b609_408d5cd1b120row0_col0\" class=\"data row0 col0\" >MainScreenAppear</td>\n",
       "                        <td id=\"T_fe9cb3ba_21ee_11ec_b609_408d5cd1b120row0_col1\" class=\"data row0 col1\" >1</td>\n",
       "                        <td id=\"T_fe9cb3ba_21ee_11ec_b609_408d5cd1b120row0_col2\" class=\"data row0 col2\" >7419</td>\n",
       "                        <td id=\"T_fe9cb3ba_21ee_11ec_b609_408d5cd1b120row0_col3\" class=\"data row0 col3\" >0.98</td>\n",
       "                        <td id=\"T_fe9cb3ba_21ee_11ec_b609_408d5cd1b120row0_col4\" class=\"data row0 col4\" >nan%</td>\n",
       "            </tr>\n",
       "            <tr>\n",
       "                        <th id=\"T_fe9cb3ba_21ee_11ec_b609_408d5cd1b120level0_row1\" class=\"row_heading level0 row1\" >1</th>\n",
       "                        <td id=\"T_fe9cb3ba_21ee_11ec_b609_408d5cd1b120row1_col0\" class=\"data row1 col0\" >OffersScreenAppear</td>\n",
       "                        <td id=\"T_fe9cb3ba_21ee_11ec_b609_408d5cd1b120row1_col1\" class=\"data row1 col1\" >1</td>\n",
       "                        <td id=\"T_fe9cb3ba_21ee_11ec_b609_408d5cd1b120row1_col2\" class=\"data row1 col2\" >4593</td>\n",
       "                        <td id=\"T_fe9cb3ba_21ee_11ec_b609_408d5cd1b120row1_col3\" class=\"data row1 col3\" >0.61</td>\n",
       "                        <td id=\"T_fe9cb3ba_21ee_11ec_b609_408d5cd1b120row1_col4\" class=\"data row1 col4\" >37.8%</td>\n",
       "            </tr>\n",
       "            <tr>\n",
       "                        <th id=\"T_fe9cb3ba_21ee_11ec_b609_408d5cd1b120level0_row2\" class=\"row_heading level0 row2\" >2</th>\n",
       "                        <td id=\"T_fe9cb3ba_21ee_11ec_b609_408d5cd1b120row2_col0\" class=\"data row2 col0\" >CartScreenAppear</td>\n",
       "                        <td id=\"T_fe9cb3ba_21ee_11ec_b609_408d5cd1b120row2_col1\" class=\"data row2 col1\" >1</td>\n",
       "                        <td id=\"T_fe9cb3ba_21ee_11ec_b609_408d5cd1b120row2_col2\" class=\"data row2 col2\" >3734</td>\n",
       "                        <td id=\"T_fe9cb3ba_21ee_11ec_b609_408d5cd1b120row2_col3\" class=\"data row2 col3\" >0.5</td>\n",
       "                        <td id=\"T_fe9cb3ba_21ee_11ec_b609_408d5cd1b120row2_col4\" class=\"data row2 col4\" >18.0%</td>\n",
       "            </tr>\n",
       "            <tr>\n",
       "                        <th id=\"T_fe9cb3ba_21ee_11ec_b609_408d5cd1b120level0_row3\" class=\"row_heading level0 row3\" >3</th>\n",
       "                        <td id=\"T_fe9cb3ba_21ee_11ec_b609_408d5cd1b120row3_col0\" class=\"data row3 col0\" >PaymentScreenSuccessful</td>\n",
       "                        <td id=\"T_fe9cb3ba_21ee_11ec_b609_408d5cd1b120row3_col1\" class=\"data row3 col1\" >1</td>\n",
       "                        <td id=\"T_fe9cb3ba_21ee_11ec_b609_408d5cd1b120row3_col2\" class=\"data row3 col2\" >3539</td>\n",
       "                        <td id=\"T_fe9cb3ba_21ee_11ec_b609_408d5cd1b120row3_col3\" class=\"data row3 col3\" >0.47</td>\n",
       "                        <td id=\"T_fe9cb3ba_21ee_11ec_b609_408d5cd1b120row3_col4\" class=\"data row3 col4\" >6.0%</td>\n",
       "            </tr>\n",
       "    </tbody></table>"
      ],
      "text/plain": [
       "<pandas.io.formats.style.Styler at 0x21dba958788>"
      ]
     },
     "execution_count": 40,
     "metadata": {},
     "output_type": "execute_result"
    }
   ],
   "source": [
    "# Посмотрим, какая доля пользователей проходит на следующий шаг воронки от числа пользователей на предыдущем в pct_go_away\n",
    "logs_date_event_gr_user = logs_date_event_gr_user.iloc[:4] \n",
    "logs_date_event_gr_user['conversion'] = logs_date_event_gr_user['conversion'].round(2)\n",
    "logs_date_event_gr_user['pct_go_away'] = abs(logs_date_event_gr_user['conversion'].pct_change(axis=0))\n",
    "logs_date_event_gr_user.style.format({('pct_go_away'):'{:.1%}'})"
   ]
  },
  {
   "cell_type": "code",
   "execution_count": 68,
   "id": "8c269a91",
   "metadata": {},
   "outputs": [
    {
     "data": {
      "image/svg+xml": [
       "<svg class=\"main-svg\" xmlns=\"http://www.w3.org/2000/svg\" xmlns:xlink=\"http://www.w3.org/1999/xlink\" width=\"700\" height=\"450\" style=\"\" viewBox=\"0 0 700 450\"><rect x=\"0\" y=\"0\" width=\"700\" height=\"450\" style=\"fill: rgb(255, 255, 255); fill-opacity: 1;\"/><defs id=\"defs-7ba2a7\"><g class=\"clips\"><clipPath id=\"clip7ba2a7xyplot\" class=\"plotclip\"><rect width=\"459\" height=\"270\"/></clipPath><clipPath class=\"axesclip\" id=\"clip7ba2a7x\"><rect x=\"161\" y=\"0\" width=\"459\" height=\"450\"/></clipPath><clipPath class=\"axesclip\" id=\"clip7ba2a7y\"><rect x=\"0\" y=\"100\" width=\"700\" height=\"270\"/></clipPath><clipPath class=\"axesclip\" id=\"clip7ba2a7xy\"><rect x=\"161\" y=\"100\" width=\"459\" height=\"270\"/></clipPath></g><g class=\"gradients\"/></defs><g class=\"bglayer\"/><g class=\"layer-below\"><g class=\"imagelayer\"/><g class=\"shapelayer\"/></g><g class=\"cartesianlayer\"><g class=\"subplot xy\"><g class=\"layer-subplot\"><g class=\"shapelayer\"/><g class=\"imagelayer\"/></g><g class=\"gridlayer\"><g class=\"x\"/><g class=\"y\"/></g><g class=\"zerolinelayer\"/><path class=\"xlines-below\"/><path class=\"ylines-below\"/><g class=\"overlines-below\"/><g class=\"xaxislayer-below\"/><g class=\"yaxislayer-below\"/><g class=\"overaxes-below\"/><g class=\"plot\" transform=\"translate(161, 100)\" clip-path=\"url('#clip7ba2a7xyplot')\"><g class=\"funnellayer mlayer\"><g class=\"trace bars\" style=\"opacity: 0.9;\"><g class=\"regions\"><g class=\"region\"><path d=\"M22.95,60.75L100.93,74.25H358.07L436.05,60.75Z\" style=\"stroke-width: 0; fill: rgb(0, 0, 0); fill-opacity: 0.5;\"/></g><g class=\"region\"><path d=\"M100.93,128.25L124.12,141.75H334.88L358.07,128.25Z\" style=\"stroke-width: 0; fill: rgb(0, 0, 0); fill-opacity: 0.5;\"/></g><g class=\"region\"><path d=\"M124.12,195.75L130.44,209.25H328.56L334.88,195.75Z\" style=\"stroke-width: 0; fill: rgb(0, 0, 0); fill-opacity: 0.5;\"/></g><g class=\"region\"><path d=\"\" style=\"stroke-width: 0; fill: rgb(0, 0, 0); fill-opacity: 0.5;\"/></g></g><g class=\"points\"><g class=\"point\"><path d=\"M22.95,6.75V60.75H436.05V6.75Z\" style=\"vector-effect: non-scaling-stroke; fill: rgb(64, 127, 189); fill-opacity: 1; stroke: rgb(68, 68, 68); stroke-opacity: 1; stroke-width: 0px; opacity: 1;\"/><text class=\"bartext bartext-inside\" transform=\"translate(229.5 38.25)\" text-anchor=\"middle\" data-notex=\"1\" x=\"0\" y=\"0\" style=\"font-family: serif; font-size: 14px; fill: rgb(255, 255, 255); fill-opacity: 1; white-space: pre;\">0.98</text></g><g class=\"point\"><path d=\"M100.93,74.25V128.25H358.07V74.25Z\" style=\"vector-effect: non-scaling-stroke; fill: rgb(24, 87, 149); fill-opacity: 1; stroke: rgb(68, 68, 68); stroke-opacity: 1; stroke-width: 0px; opacity: 1;\"/><text class=\"bartext bartext-inside\" transform=\"translate(229.5 105.75)\" text-anchor=\"middle\" data-notex=\"1\" x=\"0\" y=\"0\" style=\"font-family: serif; font-size: 14px; fill: rgb(255, 255, 255); fill-opacity: 1; white-space: pre;\">0.61</text></g><g class=\"point\"><path d=\"M124.12,141.75V195.75H334.88V141.75Z\" style=\"vector-effect: non-scaling-stroke; fill: rgb(24, 61, 109); fill-opacity: 1; stroke: rgb(68, 68, 68); stroke-opacity: 1; stroke-width: 0px; opacity: 1;\"/><text class=\"bartext bartext-inside\" transform=\"translate(229.5 173.25)\" text-anchor=\"middle\" data-notex=\"1\" x=\"0\" y=\"0\" style=\"font-family: serif; font-size: 14px; fill: rgb(255, 255, 255); fill-opacity: 1; white-space: pre;\">0.5</text></g><g class=\"point\"><path d=\"M130.44,209.25V263.25H328.56V209.25Z\" style=\"vector-effect: non-scaling-stroke; fill: rgb(4, 41, 89); fill-opacity: 1; stroke: rgb(68, 68, 68); stroke-opacity: 1; stroke-width: 0px; opacity: 1;\"/><text class=\"bartext bartext-inside\" transform=\"translate(229.5 240.75)\" text-anchor=\"middle\" data-notex=\"1\" x=\"0\" y=\"0\" style=\"font-family: serif; font-size: 14px; fill: rgb(255, 255, 255); fill-opacity: 1; white-space: pre;\">0.47</text></g></g></g></g></g><g class=\"overplot\"/><path class=\"xlines-above crisp\" d=\"M0,0\" style=\"fill: none;\"/><path class=\"ylines-above crisp\" d=\"M0,0\" style=\"fill: none;\"/><g class=\"overlines-above\"/><g class=\"xaxislayer-above\"/><g class=\"yaxislayer-above\"><g class=\"ytick\"><text text-anchor=\"end\" x=\"160\" y=\"4.8999999999999995\" transform=\"translate(0,336.25)\" style=\"font-family: serif; font-size: 14px; fill: rgb(0, 0, 0); fill-opacity: 1; white-space: pre;\">PaymentScreenSuccessful</text></g><g class=\"ytick\"><text text-anchor=\"end\" x=\"160\" y=\"4.8999999999999995\" transform=\"translate(0,268.75)\" style=\"font-family: serif; font-size: 14px; fill: rgb(0, 0, 0); fill-opacity: 1; white-space: pre;\">CartScreenAppear</text></g><g class=\"ytick\"><text text-anchor=\"end\" x=\"160\" y=\"4.8999999999999995\" transform=\"translate(0,201.25)\" style=\"font-family: serif; font-size: 14px; fill: rgb(0, 0, 0); fill-opacity: 1; white-space: pre;\">OffersScreenAppear</text></g><g class=\"ytick\"><text text-anchor=\"end\" x=\"160\" y=\"4.8999999999999995\" transform=\"translate(0,133.75)\" style=\"font-family: serif; font-size: 14px; fill: rgb(0, 0, 0); fill-opacity: 1; white-space: pre;\">MainScreenAppear</text></g></g><g class=\"overaxes-above\"/></g></g><g class=\"polarlayer\"/><g class=\"ternarylayer\"/><g class=\"geolayer\"/><g class=\"funnelarealayer\"/><g class=\"pielayer\"/><g class=\"sunburstlayer\"/><g class=\"glimages\"/><defs id=\"topdefs-7ba2a7\"><g class=\"clips\"/></defs><g class=\"layer-above\"><g class=\"imagelayer\"/><g class=\"shapelayer\"/></g><g class=\"infolayer\"><g class=\"g-gtitle\"><text class=\"gtitle\" x=\"350\" y=\"22.5\" text-anchor=\"middle\" dy=\"0.7em\" style=\"font-family: serif; font-size: 20px; fill: rgb(0, 0, 0); opacity: 1; font-weight: normal; white-space: pre;\">Воронка событий без учета последовательности событий</text></g><g class=\"g-ytitle\"/></g></svg>"
      ]
     },
     "metadata": {},
     "output_type": "display_data"
    }
   ],
   "source": [
    "fig=go.Figure(go.Funnel(y=logs_date_event_gr_user['event_name'], x=logs_date_event_gr_user['conversion'], textposition = \"inside\", textinfo = \"value\",\n",
    "    opacity = 0.9, marker = {\"color\": ['rgb(64, 127, 189)','rgb(24, 87, 149)', 'rgb(24, 61, 109)', 'rgb(4, 41, 89)']}))\n",
    "fig.update_layout(\n",
    "    title={\n",
    "        'text': \"Воронка событий без учета последовательности событий\",\n",
    "        'y':0.95,\n",
    "        'x':0.5,\n",
    "        'xanchor': 'auto',\n",
    "        'yanchor': 'top'},\n",
    "    font=dict(\n",
    "        family=\"serif\",\n",
    "        size=14,\n",
    "        color=\"black\"))\n",
    "fig.update_layout(plot_bgcolor='white')\n",
    "fig.show(\"svg\")"
   ]
  },
  {
   "cell_type": "markdown",
   "id": "93ac9032",
   "metadata": {},
   "source": [
    "Больше всего клиентов отсеивается между MainScreenAppear и OffersScreenAppear, 38%. Почти половина клиентов делает заказ.\n",
    "\n",
    "Исследуем конверсию по группам."
   ]
  },
  {
   "cell_type": "code",
   "execution_count": 42,
   "id": "9ecb0421",
   "metadata": {},
   "outputs": [
    {
     "data": {
      "text/html": [
       "<style  type=\"text/css\" >\n",
       "</style><table id=\"T_ff06ab64_21ee_11ec_aeee_408d5cd1b120\" ><thead>    <tr>        <th class=\"index_name level0\" >group</th>        <th class=\"col_heading level0 col0\" >conversion_246</th>        <th class=\"col_heading level0 col1\" >conversion_247</th>        <th class=\"col_heading level0 col2\" >conversion_248</th>    </tr>    <tr>        <th class=\"index_name level0\" >event_name</th>        <th class=\"blank\" ></th>        <th class=\"blank\" ></th>        <th class=\"blank\" ></th>    </tr></thead><tbody>\n",
       "                <tr>\n",
       "                        <th id=\"T_ff06ab64_21ee_11ec_aeee_408d5cd1b120level0_row0\" class=\"row_heading level0 row0\" >MainScreenAppear</th>\n",
       "                        <td id=\"T_ff06ab64_21ee_11ec_aeee_408d5cd1b120row0_col0\" class=\"data row0 col0\" >98.6%</td>\n",
       "                        <td id=\"T_ff06ab64_21ee_11ec_aeee_408d5cd1b120row0_col1\" class=\"data row0 col1\" >97.5%</td>\n",
       "                        <td id=\"T_ff06ab64_21ee_11ec_aeee_408d5cd1b120row0_col2\" class=\"data row0 col2\" >96.6%</td>\n",
       "            </tr>\n",
       "            <tr>\n",
       "                        <th id=\"T_ff06ab64_21ee_11ec_aeee_408d5cd1b120level0_row1\" class=\"row_heading level0 row1\" >OffersScreenAppear</th>\n",
       "                        <td id=\"T_ff06ab64_21ee_11ec_aeee_408d5cd1b120row1_col0\" class=\"data row1 col0\" >62.1%</td>\n",
       "                        <td id=\"T_ff06ab64_21ee_11ec_aeee_408d5cd1b120row1_col1\" class=\"data row1 col1\" >61.4%</td>\n",
       "                        <td id=\"T_ff06ab64_21ee_11ec_aeee_408d5cd1b120row1_col2\" class=\"data row1 col2\" >60.8%</td>\n",
       "            </tr>\n",
       "            <tr>\n",
       "                        <th id=\"T_ff06ab64_21ee_11ec_aeee_408d5cd1b120level0_row2\" class=\"row_heading level0 row2\" >CartScreenAppear</th>\n",
       "                        <td id=\"T_ff06ab64_21ee_11ec_aeee_408d5cd1b120row2_col0\" class=\"data row2 col0\" >51.0%</td>\n",
       "                        <td id=\"T_ff06ab64_21ee_11ec_aeee_408d5cd1b120row2_col1\" class=\"data row2 col1\" >50.4%</td>\n",
       "                        <td id=\"T_ff06ab64_21ee_11ec_aeee_408d5cd1b120row2_col2\" class=\"data row2 col2\" >49.9%</td>\n",
       "            </tr>\n",
       "            <tr>\n",
       "                        <th id=\"T_ff06ab64_21ee_11ec_aeee_408d5cd1b120level0_row3\" class=\"row_heading level0 row3\" >PaymentScreenSuccessful</th>\n",
       "                        <td id=\"T_ff06ab64_21ee_11ec_aeee_408d5cd1b120row3_col0\" class=\"data row3 col0\" >48.3%</td>\n",
       "                        <td id=\"T_ff06ab64_21ee_11ec_aeee_408d5cd1b120row3_col1\" class=\"data row3 col1\" >47.8%</td>\n",
       "                        <td id=\"T_ff06ab64_21ee_11ec_aeee_408d5cd1b120row3_col2\" class=\"data row3 col2\" >47.3%</td>\n",
       "            </tr>\n",
       "            <tr>\n",
       "                        <th id=\"T_ff06ab64_21ee_11ec_aeee_408d5cd1b120level0_row4\" class=\"row_heading level0 row4\" >Tutorial</th>\n",
       "                        <td id=\"T_ff06ab64_21ee_11ec_aeee_408d5cd1b120row4_col0\" class=\"data row4 col0\" >11.2%</td>\n",
       "                        <td id=\"T_ff06ab64_21ee_11ec_aeee_408d5cd1b120row4_col1\" class=\"data row4 col1\" >11.1%</td>\n",
       "                        <td id=\"T_ff06ab64_21ee_11ec_aeee_408d5cd1b120row4_col2\" class=\"data row4 col2\" >11.0%</td>\n",
       "            </tr>\n",
       "    </tbody></table>"
      ],
      "text/plain": [
       "<pandas.io.formats.style.Styler at 0x21dbb09fac8>"
      ]
     },
     "execution_count": 42,
     "metadata": {},
     "output_type": "execute_result"
    }
   ],
   "source": [
    "# Сгруппируем по событиям и группам\n",
    "logs_date_event_gr_user_3 = logs_date.pivot_table(index=['event_name'], columns='group', values = 'user_id', aggfunc='nunique')\n",
    "logs_date_event_gr_user_3 = logs_date_event_gr_user_3.sort_values(by=246, ascending = False)\n",
    "\n",
    "logs_date_event_gr_user_3['conversion_246'] = logs_date_event_gr_user_3[246]/logs_date.query('group == 246')['user_id'].nunique()\n",
    "logs_date_event_gr_user_3['conversion_247'] = logs_date_event_gr_user_3[246]/logs_date.query('group == 247')['user_id'].nunique()\n",
    "logs_date_event_gr_user_3['conversion_248'] = logs_date_event_gr_user_3[246]/logs_date.query('group == 248')['user_id'].nunique()\n",
    "\n",
    "logs_date_event_gr_user_3[['conversion_246', 'conversion_247', 'conversion_248']].style.format({('conversion_246'):'{:.1%}', ('conversion_247'):'{:.1%}', ('conversion_248'):'{:.1%}'})"
   ]
  },
  {
   "cell_type": "code",
   "execution_count": 43,
   "id": "150d32ab",
   "metadata": {},
   "outputs": [],
   "source": [
    "logs_date_event_gr_user_3 = logs_date_event_gr_user_3.iloc[:4][['conversion_246', 'conversion_247', 'conversion_248']].round(2)"
   ]
  },
  {
   "cell_type": "code",
   "execution_count": 69,
   "id": "f007772b",
   "metadata": {},
   "outputs": [
    {
     "data": {
      "image/svg+xml": [
       "<svg class=\"main-svg\" xmlns=\"http://www.w3.org/2000/svg\" xmlns:xlink=\"http://www.w3.org/1999/xlink\" width=\"700\" height=\"450\" style=\"\" viewBox=\"0 0 700 450\"><rect x=\"0\" y=\"0\" width=\"700\" height=\"450\" style=\"fill: rgb(255, 255, 255); fill-opacity: 1;\"/><defs id=\"defs-ee3bb7\"><g class=\"clips\"><clipPath id=\"clipee3bb7xyplot\" class=\"plotclip\"><rect width=\"452\" height=\"270\"/></clipPath><clipPath class=\"axesclip\" id=\"clipee3bb7x\"><rect x=\"161\" y=\"0\" width=\"452\" height=\"450\"/></clipPath><clipPath class=\"axesclip\" id=\"clipee3bb7y\"><rect x=\"0\" y=\"100\" width=\"700\" height=\"270\"/></clipPath><clipPath class=\"axesclip\" id=\"clipee3bb7xy\"><rect x=\"161\" y=\"100\" width=\"452\" height=\"270\"/></clipPath></g><g class=\"gradients\"/></defs><g class=\"bglayer\"/><g class=\"layer-below\"><g class=\"imagelayer\"/><g class=\"shapelayer\"/></g><g class=\"cartesianlayer\"><g class=\"subplot xy\"><g class=\"layer-subplot\"><g class=\"shapelayer\"/><g class=\"imagelayer\"/></g><g class=\"gridlayer\"><g class=\"x\"/><g class=\"y\"/></g><g class=\"zerolinelayer\"/><path class=\"xlines-below\"/><path class=\"ylines-below\"/><g class=\"overlines-below\"/><g class=\"xaxislayer-below\"/><g class=\"yaxislayer-below\"/><g class=\"overaxes-below\"/><g class=\"plot\" transform=\"translate(161, 100)\" clip-path=\"url('#clipee3bb7xyplot')\"><g class=\"funnellayer mlayer\"><g class=\"trace bars\" style=\"opacity: 1;\"><g class=\"regions\"><g class=\"region\"><path d=\"M22.6,60.75L98.27,74.25H184.35L160.05,60.75Z\" style=\"stroke-width: 0; fill: rgb(99, 110, 250); fill-opacity: 0.5;\"/></g><g class=\"region\"><path d=\"M98.27,128.25L121.18,141.75H191.98L184.35,128.25Z\" style=\"stroke-width: 0; fill: rgb(99, 110, 250); fill-opacity: 0.5;\"/></g><g class=\"region\"><path d=\"M121.18,195.75L126.73,209.25H193.37L191.98,195.75Z\" style=\"stroke-width: 0; fill: rgb(99, 110, 250); fill-opacity: 0.5;\"/></g><g class=\"region\"><path d=\"\" style=\"stroke-width: 0; fill: rgb(99, 110, 250); fill-opacity: 0.5;\"/></g></g><g class=\"points\"><g class=\"point\"><path d=\"M22.6,6.75V60.75H160.05V6.75Z\" style=\"vector-effect: non-scaling-stroke; fill: rgb(99, 110, 250); fill-opacity: 1; stroke: rgb(68, 68, 68); stroke-opacity: 1; stroke-width: 0px; opacity: 1;\"/><text class=\"bartext bartext-inside\" transform=\"translate(91.325 38.25)\" text-anchor=\"middle\" data-notex=\"1\" x=\"0\" y=\"0\" style=\"font-family: serif; font-size: 14px; fill: rgb(255, 255, 255); fill-opacity: 1; white-space: pre;\">0.99</text></g><g class=\"point\"><path d=\"M98.27,74.25V128.25H184.35V74.25Z\" style=\"vector-effect: non-scaling-stroke; fill: rgb(99, 110, 250); fill-opacity: 1; stroke: rgb(68, 68, 68); stroke-opacity: 1; stroke-width: 0px; opacity: 1;\"/><text class=\"bartext bartext-inside\" transform=\"translate(141.31 105.75)\" text-anchor=\"middle\" data-notex=\"1\" x=\"0\" y=\"0\" style=\"font-family: serif; font-size: 14px; fill: rgb(255, 255, 255); fill-opacity: 1; white-space: pre;\">0.62</text></g><g class=\"point\"><path d=\"M121.18,141.75V195.75H191.98V141.75Z\" style=\"vector-effect: non-scaling-stroke; fill: rgb(99, 110, 250); fill-opacity: 1; stroke: rgb(68, 68, 68); stroke-opacity: 1; stroke-width: 0px; opacity: 1;\"/><text class=\"bartext bartext-inside\" transform=\"translate(156.57999999999998 173.25)\" text-anchor=\"middle\" data-notex=\"1\" x=\"0\" y=\"0\" style=\"font-family: serif; font-size: 14px; fill: rgb(255, 255, 255); fill-opacity: 1; white-space: pre;\">0.51</text></g><g class=\"point\"><path d=\"M126.73,209.25V263.25H193.37V209.25Z\" style=\"vector-effect: non-scaling-stroke; fill: rgb(99, 110, 250); fill-opacity: 1; stroke: rgb(68, 68, 68); stroke-opacity: 1; stroke-width: 0px; opacity: 1;\"/><text class=\"bartext bartext-inside\" transform=\"translate(160.05 240.75)\" text-anchor=\"middle\" data-notex=\"1\" x=\"0\" y=\"0\" style=\"font-family: serif; font-size: 14px; fill: rgb(255, 255, 255); fill-opacity: 1; white-space: pre;\">0.48</text></g></g></g><g class=\"trace bars\" style=\"opacity: 1;\"><g class=\"regions\"><g class=\"region\"><path d=\"M160.05,60.75L184.35,74.25H269.04L294.73,60.75Z\" style=\"stroke-width: 0; fill: rgb(239, 85, 59); fill-opacity: 0.5;\"/></g><g class=\"region\"><path d=\"M184.35,128.25L191.98,141.75H261.4L269.04,128.25Z\" style=\"stroke-width: 0; fill: rgb(239, 85, 59); fill-opacity: 0.5;\"/></g><g class=\"region\"><path d=\"M191.98,195.75L193.37,209.25H260.02L261.4,195.75Z\" style=\"stroke-width: 0; fill: rgb(239, 85, 59); fill-opacity: 0.5;\"/></g><g class=\"region\"><path d=\"\" style=\"stroke-width: 0; fill: rgb(239, 85, 59); fill-opacity: 0.5;\"/></g></g><g class=\"points\"><g class=\"point\"><path d=\"M160.05,6.75V60.75H294.73V6.75Z\" style=\"vector-effect: non-scaling-stroke; fill: rgb(239, 85, 59); fill-opacity: 1; stroke: rgb(68, 68, 68); stroke-opacity: 1; stroke-width: 0px; opacity: 1;\"/><text class=\"bartext bartext-inside\" transform=\"translate(227.39000000000001 38.25)\" text-anchor=\"middle\" data-notex=\"1\" x=\"0\" y=\"0\" style=\"font-family: serif; font-size: 14px; fill: rgb(68, 68, 68); fill-opacity: 1; white-space: pre;\">0.97</text></g><g class=\"point\"><path d=\"M184.35,74.25V128.25H269.04V74.25Z\" style=\"vector-effect: non-scaling-stroke; fill: rgb(239, 85, 59); fill-opacity: 1; stroke: rgb(68, 68, 68); stroke-opacity: 1; stroke-width: 0px; opacity: 1;\"/><text class=\"bartext bartext-inside\" transform=\"translate(226.695 105.75)\" text-anchor=\"middle\" data-notex=\"1\" x=\"0\" y=\"0\" style=\"font-family: serif; font-size: 14px; fill: rgb(68, 68, 68); fill-opacity: 1; white-space: pre;\">0.61</text></g><g class=\"point\"><path d=\"M191.98,141.75V195.75H261.4V141.75Z\" style=\"vector-effect: non-scaling-stroke; fill: rgb(239, 85, 59); fill-opacity: 1; stroke: rgb(68, 68, 68); stroke-opacity: 1; stroke-width: 0px; opacity: 1;\"/><text class=\"bartext bartext-inside\" transform=\"translate(226.69 173.25)\" text-anchor=\"middle\" data-notex=\"1\" x=\"0\" y=\"0\" style=\"font-family: serif; font-size: 14px; fill: rgb(68, 68, 68); fill-opacity: 1; white-space: pre;\">0.5</text></g><g class=\"point\"><path d=\"M193.37,209.25V263.25H260.02V209.25Z\" style=\"vector-effect: non-scaling-stroke; fill: rgb(239, 85, 59); fill-opacity: 1; stroke: rgb(68, 68, 68); stroke-opacity: 1; stroke-width: 0px; opacity: 1;\"/><text class=\"bartext bartext-inside\" transform=\"translate(226.695 240.75)\" text-anchor=\"middle\" data-notex=\"1\" x=\"0\" y=\"0\" style=\"font-family: serif; font-size: 14px; fill: rgb(68, 68, 68); fill-opacity: 1; white-space: pre;\">0.48</text></g></g></g><g class=\"trace bars\" style=\"opacity: 1;\"><g class=\"regions\"><g class=\"region\"><path d=\"M294.73,60.75L269.04,74.25H353.73L429.4,60.75Z\" style=\"stroke-width: 0; fill: rgb(0, 204, 150); fill-opacity: 0.5;\"/></g><g class=\"region\"><path d=\"M269.04,128.25L261.4,141.75H330.82L353.73,128.25Z\" style=\"stroke-width: 0; fill: rgb(0, 204, 150); fill-opacity: 0.5;\"/></g><g class=\"region\"><path d=\"M261.4,195.75L260.02,209.25H325.27L330.82,195.75Z\" style=\"stroke-width: 0; fill: rgb(0, 204, 150); fill-opacity: 0.5;\"/></g><g class=\"region\"><path d=\"\" style=\"stroke-width: 0; fill: rgb(0, 204, 150); fill-opacity: 0.5;\"/></g></g><g class=\"points\"><g class=\"point\"><path d=\"M294.73,6.75V60.75H429.4V6.75Z\" style=\"vector-effect: non-scaling-stroke; fill: rgb(0, 204, 150); fill-opacity: 1; stroke: rgb(68, 68, 68); stroke-opacity: 1; stroke-width: 0px; opacity: 1;\"/><text class=\"bartext bartext-inside\" transform=\"translate(362.065 38.25)\" text-anchor=\"middle\" data-notex=\"1\" x=\"0\" y=\"0\" style=\"font-family: serif; font-size: 14px; fill: rgb(68, 68, 68); fill-opacity: 1; white-space: pre;\">0.97</text></g><g class=\"point\"><path d=\"M269.04,74.25V128.25H353.73V74.25Z\" style=\"vector-effect: non-scaling-stroke; fill: rgb(0, 204, 150); fill-opacity: 1; stroke: rgb(68, 68, 68); stroke-opacity: 1; stroke-width: 0px; opacity: 1;\"/><text class=\"bartext bartext-inside\" transform=\"translate(311.385 105.75)\" text-anchor=\"middle\" data-notex=\"1\" x=\"0\" y=\"0\" style=\"font-family: serif; font-size: 14px; fill: rgb(68, 68, 68); fill-opacity: 1; white-space: pre;\">0.61</text></g><g class=\"point\"><path d=\"M261.4,141.75V195.75H330.82V141.75Z\" style=\"vector-effect: non-scaling-stroke; fill: rgb(0, 204, 150); fill-opacity: 1; stroke: rgb(68, 68, 68); stroke-opacity: 1; stroke-width: 0px; opacity: 1;\"/><text class=\"bartext bartext-inside\" transform=\"translate(296.11 173.25)\" text-anchor=\"middle\" data-notex=\"1\" x=\"0\" y=\"0\" style=\"font-family: serif; font-size: 14px; fill: rgb(68, 68, 68); fill-opacity: 1; white-space: pre;\">0.5</text></g><g class=\"point\"><path d=\"M260.02,209.25V263.25H325.27V209.25Z\" style=\"vector-effect: non-scaling-stroke; fill: rgb(0, 204, 150); fill-opacity: 1; stroke: rgb(68, 68, 68); stroke-opacity: 1; stroke-width: 0px; opacity: 1;\"/><text class=\"bartext bartext-inside\" transform=\"translate(292.645 240.75)\" text-anchor=\"middle\" data-notex=\"1\" x=\"0\" y=\"0\" style=\"font-family: serif; font-size: 14px; fill: rgb(68, 68, 68); fill-opacity: 1; white-space: pre;\">0.47</text></g></g></g></g></g><g class=\"overplot\"/><path class=\"xlines-above crisp\" style=\"fill: none;\" d=\"M0,0\"/><path class=\"ylines-above crisp\" style=\"fill: none;\" d=\"M0,0\"/><g class=\"overlines-above\"/><g class=\"xaxislayer-above\"/><g class=\"yaxislayer-above\"><g class=\"ytick\"><text text-anchor=\"end\" x=\"160\" y=\"4.8999999999999995\" transform=\"translate(0,336.25)\" style=\"font-family: serif; font-size: 14px; fill: rgb(0, 0, 0); fill-opacity: 1; white-space: pre;\">PaymentScreenSuccessful</text></g><g class=\"ytick\"><text text-anchor=\"end\" x=\"160\" y=\"4.8999999999999995\" transform=\"translate(0,268.75)\" style=\"font-family: serif; font-size: 14px; fill: rgb(0, 0, 0); fill-opacity: 1; white-space: pre;\">CartScreenAppear</text></g><g class=\"ytick\"><text text-anchor=\"end\" x=\"160\" y=\"4.8999999999999995\" transform=\"translate(0,201.25)\" style=\"font-family: serif; font-size: 14px; fill: rgb(0, 0, 0); fill-opacity: 1; white-space: pre;\">OffersScreenAppear</text></g><g class=\"ytick\"><text text-anchor=\"end\" x=\"160\" y=\"4.8999999999999995\" transform=\"translate(0,133.75)\" style=\"font-family: serif; font-size: 14px; fill: rgb(0, 0, 0); fill-opacity: 1; white-space: pre;\">MainScreenAppear</text></g></g><g class=\"overaxes-above\"/></g></g><g class=\"polarlayer\"/><g class=\"ternarylayer\"/><g class=\"geolayer\"/><g class=\"funnelarealayer\"/><g class=\"pielayer\"/><g class=\"sunburstlayer\"/><g class=\"glimages\"/><defs id=\"topdefs-ee3bb7\"><g class=\"clips\"/><clipPath id=\"legendee3bb7\"><rect width=\"66\" height=\"74\" x=\"0\" y=\"0\"/></clipPath></defs><g class=\"layer-above\"><g class=\"imagelayer\"/><g class=\"shapelayer\"/></g><g class=\"infolayer\"><g class=\"legend\" pointer-events=\"all\" transform=\"translate(622.04, 100)\"><rect class=\"bg\" shape-rendering=\"crispEdges\" style=\"stroke: rgb(68, 68, 68); stroke-opacity: 1; fill: rgb(255, 255, 255); fill-opacity: 1; stroke-width: 0px;\" width=\"66\" height=\"74\" x=\"0\" y=\"0\"/><g class=\"scrollbox\" transform=\"translate(0, 0)\" clip-path=\"url('#legendee3bb7')\"><g class=\"groups\"><g class=\"traces\" style=\"opacity: 1;\" transform=\"translate(0, 15.6)\"><text class=\"legendtext user-select-none\" text-anchor=\"start\" x=\"40\" y=\"5.46\" style=\"font-family: serif; font-size: 14px; fill: rgb(0, 0, 0); fill-opacity: 1; white-space: pre;\">246</text><g class=\"layers\" style=\"opacity: 1;\"><g class=\"legendfill\"/><g class=\"legendlines\"/><g class=\"legendsymbols\"><g class=\"legendpoints\"><path class=\"legendfunnel\" d=\"M6,6H-6V-6H6Z\" transform=\"translate(20,0)\" style=\"stroke-width: 0px; fill: rgb(99, 110, 250); fill-opacity: 1;\"/></g></g></g><rect class=\"legendtoggle\" pointer-events=\"all\" x=\"0\" y=\"-10.6\" width=\"106\" height=\"21.2\" style=\"cursor: pointer; fill: rgb(0, 0, 0); fill-opacity: 0;\"/></g><g class=\"traces\" style=\"opacity: 1;\" transform=\"translate(0, 36.8)\"><text class=\"legendtext user-select-none\" text-anchor=\"start\" x=\"40\" y=\"5.46\" style=\"font-family: serif; font-size: 14px; fill: rgb(0, 0, 0); fill-opacity: 1; white-space: pre;\">247</text><g class=\"layers\" style=\"opacity: 1;\"><g class=\"legendfill\"/><g class=\"legendlines\"/><g class=\"legendsymbols\"><g class=\"legendpoints\"><path class=\"legendfunnel\" d=\"M6,6H-6V-6H6Z\" transform=\"translate(20,0)\" style=\"stroke-width: 0px; fill: rgb(239, 85, 59); fill-opacity: 1;\"/></g></g></g><rect class=\"legendtoggle\" pointer-events=\"all\" x=\"0\" y=\"-10.6\" width=\"106\" height=\"21.2\" style=\"cursor: pointer; fill: rgb(0, 0, 0); fill-opacity: 0;\"/></g><g class=\"traces\" style=\"opacity: 1;\" transform=\"translate(0, 58)\"><text class=\"legendtext user-select-none\" text-anchor=\"start\" x=\"40\" y=\"5.46\" style=\"font-family: serif; font-size: 14px; fill: rgb(0, 0, 0); fill-opacity: 1; white-space: pre;\">248</text><g class=\"layers\" style=\"opacity: 1;\"><g class=\"legendfill\"/><g class=\"legendlines\"/><g class=\"legendsymbols\"><g class=\"legendpoints\"><path class=\"legendfunnel\" d=\"M6,6H-6V-6H6Z\" transform=\"translate(20,0)\" style=\"stroke-width: 0px; fill: rgb(0, 204, 150); fill-opacity: 1;\"/></g></g></g><rect class=\"legendtoggle\" pointer-events=\"all\" x=\"0\" y=\"-10.6\" width=\"106\" height=\"21.2\" style=\"cursor: pointer; fill: rgb(0, 0, 0); fill-opacity: 0;\"/></g></g></g><rect class=\"scrollbar\" rx=\"20\" ry=\"3\" width=\"0\" height=\"0\" style=\"fill: rgb(128, 139, 164); fill-opacity: 1;\" x=\"0\" y=\"0\"/></g><g class=\"g-gtitle\"><text class=\"gtitle\" x=\"350\" y=\"22.5\" text-anchor=\"middle\" dy=\"0.7em\" style=\"font-family: serif; font-size: 20px; fill: rgb(0, 0, 0); opacity: 1; font-weight: normal; white-space: pre;\">Воронка событий для всех групп</text></g><g class=\"g-ytitle\"/></g></svg>"
      ]
     },
     "metadata": {},
     "output_type": "display_data"
    }
   ],
   "source": [
    "# Построим график воронки для всех групп\n",
    "fig = go.Figure()\n",
    "\n",
    "fig.add_trace(go.Funnel(\n",
    "    name = '246',\n",
    "    y = logs_date_event_gr_user_3.index,\n",
    "    x = logs_date_event_gr_user_3['conversion_246'],\n",
    "    textinfo = \"value\"))\n",
    "\n",
    "fig.add_trace(go.Funnel(\n",
    "    name = '247',\n",
    "    orientation = \"h\",\n",
    "    y = logs_date_event_gr_user_3.index,\n",
    "    x = logs_date_event_gr_user_3['conversion_247'],\n",
    "    textposition = \"inside\",\n",
    "    textinfo = \"value\"))\n",
    "\n",
    "fig.add_trace(go.Funnel(\n",
    "    name = '248',\n",
    "    orientation = \"h\",\n",
    "    y = logs_date_event_gr_user_3.index,\n",
    "    x = logs_date_event_gr_user_3['conversion_248'],\n",
    "    textposition = \"inside\",\n",
    "    textinfo = \"value\"))\n",
    "fig.update_layout(\n",
    "    title={\n",
    "        'text': \"Воронка событий для всех групп\",\n",
    "        'y':0.95,\n",
    "        'x':0.5,\n",
    "        'xanchor': 'auto',\n",
    "        'yanchor': 'top'},\n",
    "    font=dict(\n",
    "        family=\"serif\",\n",
    "        size=14,\n",
    "        color=\"black\"))\n",
    "fig.update_layout(plot_bgcolor='white')\n",
    "fig.show(\"svg\")"
   ]
  },
  {
   "cell_type": "markdown",
   "id": "b1df1c20",
   "metadata": {},
   "source": [
    "По всем группам конверсия согласуется. Посмотрим, значимы ли различия в последующих статистических тестах."
   ]
  },
  {
   "cell_type": "markdown",
   "id": "1152e647",
   "metadata": {},
   "source": [
    "### Вывод \n",
    "\n",
    "Примерно 48% пользователей совершают оплату из всех, кто просмотрел главную страницу. \n",
    "\n",
    "Больше всего пользователей в процентном отношении отсеялось между событиями MainScreenAppear и OffersScreenAppear (38%).\n",
    "\n",
    "Примерно каждый четвертый, кто просматривал Tutorial в итоге произвел оплату. Если Tutorial открывают, то чаще всего это делают после просмотра MainScreen.\n",
    "\n",
    "## Изучение результатов эксперимента\n",
    "\n",
    "Проверим, сколько пользователей осталось в каждой группе."
   ]
  },
  {
   "cell_type": "code",
   "execution_count": 45,
   "id": "0368de28",
   "metadata": {},
   "outputs": [
    {
     "name": "stdout",
     "output_type": "stream",
     "text": [
      "Пользователей в группе 248 — 2537\n",
      "Пользователей в группе 247 — 2513\n",
      "Пользователей в группе 246 — 2484\n"
     ]
    }
   ],
   "source": [
    "print('Пользователей в группе 248 —', logs_date.query('group == \"248\"')['user_id'].nunique())\n",
    "print('Пользователей в группе 247 —', logs_date.query('group == \"247\"')['user_id'].nunique())\n",
    "print('Пользователей в группе 246 —', logs_date.query('group == \"246\"')['user_id'].nunique())"
   ]
  },
  {
   "cell_type": "markdown",
   "id": "ff2e7390",
   "metadata": {},
   "source": [
    "**А/А тестирование**\n",
    "\n",
    "Есть 2 контрольные группы для А/А-эксперимента (246 и 247).\n",
    "\n",
    "Применим статистический Z-тест о равенстве долей разницу между выборками 246 и 247, чтобы обеспечить дальнейшую корректность расчетов. Z-тест проверяет равество пропорции в выборке.\n",
    "\n",
    "*Нулевая гипотеза: По группам 246 и 247 нет оснований считать отличие конверсий статистически достоверным*\n",
    "\n",
    "*Альтернативная гипотеза: Конверсия группы 246 статистически значимо отличается от конверсии группы 247*\n",
    "\n",
    "Критический уровень статистической значимости примем за 5%, что означает, что мы допускаем 5% вероятность ошибки в полученном результате.\n",
    "При значениях p-value менее 0,05 следует признать, что можем отвергнуть нулевую гипотезу.\n",
    "\n",
    "Поскольку требуется провести несколько тестов (а именно 16), то следует применить поправку для множественных сравнений. \n",
    "По методу Бонферрони, уровень значимости будет равен 0,05/16=0,003. Согласно методу Шидака уровень значимости также равен 0,003.\n",
    "Примем его за базовое значение.\n",
    "\n",
    "Самое популярное событие, как показано в предыдущем этапе, — MainScreenAppear. \n",
    "Посчитаем число пользователей, совершивших это событие в каждой из контрольных групп 246 и 247"
   ]
  },
  {
   "cell_type": "code",
   "execution_count": 46,
   "id": "83eb48aa",
   "metadata": {},
   "outputs": [],
   "source": [
    "# Напишем функцию для проверки гипотезы по критерию о равенстве долей \n",
    "def z_value_func(data, event, group_1, group_2):\n",
    "    \n",
    "    # всего пользователей по событию в первой группе:\n",
    "    user_gr_1 = data.query('group == @group_1 & event_name == @event')['user_id'].nunique()\n",
    "    \n",
    "    # всего пользователей в первой группе:\n",
    "    all_users_gr1 = data.query('group == @group_1')['user_id'].nunique()\n",
    "    \n",
    "    # пропорция успехов в первой группе:\n",
    "    p1 = user_gr_1 / all_users_gr1\n",
    "    print('Пользователей в группе', group_1, 'по событию', event, '—', user_gr_1)\n",
    "    print('Доля пользователей в группе', group_1, 'по событию', event, '—', round(p1, 3))\n",
    "    \n",
    "    # всего пользователей по событию во второй группе:\n",
    "    user_gr_2 = data.query('group == @group_2 & event_name == @event')['user_id'].nunique()\n",
    "    \n",
    "    # всего пользователей во второй группе:\n",
    "    all_users_gr2 = data.query('group == @group_2')['user_id'].nunique()\n",
    "    \n",
    "    # пропорция успехов во второй группе:\n",
    "    p2 = user_gr_2 / all_users_gr2\n",
    "    print('Пользователей в группе', group_2, 'по событию', event, '—', user_gr_2)\n",
    "    print('Доля пользователей в группе', group_2, 'по событию', event, '—', round(p2, 3))    \n",
    "    \n",
    "    alpha = .003 # критический уровень статистической значимости\n",
    "\n",
    "    successes = np.array([user_gr_1, user_gr_2])\n",
    "    all_users = np.array([all_users_gr1, all_users_gr2])\n",
    "\n",
    "    # пропорция успехов в комбинированном датасете:\n",
    "    p_combined = (successes[0] + successes[1]) / (all_users[0] + all_users[1])\n",
    "    \n",
    "    # разница пропорций в датасетах\n",
    "    difference = p1 - p2 \n",
    " \n",
    "    # считаем статистику в ст.отклонениях стандартного нормального распределения\n",
    "    z_value = difference / mth.sqrt(p_combined * (1 - p_combined) * (1 / all_users[0] + 1 / all_users[1]))\n",
    "\n",
    "    # задаем стандартное нормальное распределение (среднее 0, ст.отклонение 1)\n",
    "    distr = st.norm(0, 1)\n",
    "\n",
    "    p_value = (1 - distr.cdf(abs(z_value))) * 2\n",
    "    print()\n",
    "    print('p-значение: ', p_value)\n",
    "\n",
    "    if p_value < alpha:\n",
    "        print('Отвергаем нулевую гипотезу: между долями есть значимая разница')\n",
    "    else:\n",
    "        print('Не получилось отвергнуть нулевую гипотезу, нет оснований считать отличие конверсий между группами статистически достоверным') \n"
   ]
  },
  {
   "cell_type": "code",
   "execution_count": 47,
   "id": "0c739482",
   "metadata": {
    "scrolled": false
   },
   "outputs": [
    {
     "name": "stdout",
     "output_type": "stream",
     "text": [
      "Пользователей в группе 246 по событию MainScreenAppear — 2450\n",
      "Доля пользователей в группе 246 по событию MainScreenAppear — 0.986\n",
      "Пользователей в группе 247 по событию MainScreenAppear — 2476\n",
      "Доля пользователей в группе 247 по событию MainScreenAppear — 0.985\n",
      "\n",
      "p-значение:  0.7570597232046099\n",
      "Не получилось отвергнуть нулевую гипотезу, нет оснований считать отличие конверсий между группами статистически достоверным\n"
     ]
    }
   ],
   "source": [
    "# статистический Z-тест о равенстве долей разницу между выборками 246 и 247 для события MainScreenAppear\n",
    "z_value_func(logs_date, 'MainScreenAppear', '246', '247')"
   ]
  },
  {
   "cell_type": "markdown",
   "id": "e95c88e3",
   "metadata": {},
   "source": [
    "По самому популярному событию MainScreenAppear нет оснований считать отличие между группами достоверным. Проведем тот же тест для остальных событий. "
   ]
  },
  {
   "cell_type": "code",
   "execution_count": 48,
   "id": "506fc1bf",
   "metadata": {
    "scrolled": false
   },
   "outputs": [
    {
     "name": "stdout",
     "output_type": "stream",
     "text": [
      "Пользователей в группе 246 по событию OffersScreenAppear — 1542\n",
      "Доля пользователей в группе 246 по событию OffersScreenAppear — 0.621\n",
      "Пользователей в группе 247 по событию OffersScreenAppear — 1520\n",
      "Доля пользователей в группе 247 по событию OffersScreenAppear — 0.605\n",
      "\n",
      "p-значение:  0.2480954578522181\n",
      "Не получилось отвергнуть нулевую гипотезу, нет оснований считать отличие конверсий между группами статистически достоверным\n"
     ]
    }
   ],
   "source": [
    "# статистический Z-тест о равенстве долей разницу между выборками 246 и 247 для события OffersScreenAppear\n",
    "z_value_func(logs_date, 'OffersScreenAppear', '246', '247')"
   ]
  },
  {
   "cell_type": "code",
   "execution_count": 49,
   "id": "7cb96449",
   "metadata": {
    "scrolled": false
   },
   "outputs": [
    {
     "name": "stdout",
     "output_type": "stream",
     "text": [
      "Пользователей в группе 246 по событию CartScreenAppear — 1266\n",
      "Доля пользователей в группе 246 по событию CartScreenAppear — 0.51\n",
      "Пользователей в группе 247 по событию CartScreenAppear — 1238\n",
      "Доля пользователей в группе 247 по событию CartScreenAppear — 0.493\n",
      "\n",
      "p-значение:  0.22883372237997213\n",
      "Не получилось отвергнуть нулевую гипотезу, нет оснований считать отличие конверсий между группами статистически достоверным\n"
     ]
    }
   ],
   "source": [
    "# статистический Z-тест о равенстве долей разницу между выборками 246 и 247 для события CartScreenAppear\n",
    "z_value_func(logs_date, 'CartScreenAppear', '246', '247')"
   ]
  },
  {
   "cell_type": "code",
   "execution_count": 50,
   "id": "3004aaae",
   "metadata": {
    "scrolled": false
   },
   "outputs": [
    {
     "name": "stdout",
     "output_type": "stream",
     "text": [
      "Пользователей в группе 246 по событию PaymentScreenSuccessful — 1200\n",
      "Доля пользователей в группе 246 по событию PaymentScreenSuccessful — 0.483\n",
      "Пользователей в группе 247 по событию PaymentScreenSuccessful — 1158\n",
      "Доля пользователей в группе 247 по событию PaymentScreenSuccessful — 0.461\n",
      "\n",
      "p-значение:  0.11456679313141849\n",
      "Не получилось отвергнуть нулевую гипотезу, нет оснований считать отличие конверсий между группами статистически достоверным\n"
     ]
    }
   ],
   "source": [
    "# статистический Z-тест о равенстве долей разницу между выборками 246 и 247 для события PaymentScreenSuccessful\n",
    "z_value_func(logs_date, 'PaymentScreenSuccessful', '246', '247')"
   ]
  },
  {
   "cell_type": "markdown",
   "id": "ac4eced4",
   "metadata": {},
   "source": [
    "Разбиение на группы проведено корректно, тесты для всех событий по группам 246 и 247 показывают, что нет оснований считать отличие между группами А/А статистически значимым. \n",
    "\n",
    "**А/А/В тестирование**\n",
    "\n",
    "Сравним группы 246 и 247  поочередно с группой 248, в которой был изменен шрифт (группа В)\n",
    "Посмотрим результаты по каждой из контрольных групп в отдельности по каждому событию и с объединённой контрольной группой.\n",
    "\n",
    "- Применим статистический Z-тест о равенстве долей разницу между выборками 246 и 248.\n",
    "\n",
    "*Нулевая гипотеза 1: По группам 246 и 248 нет оснований считать отличие конверсий статистически достоверным*\n",
    "\n",
    "*Альтернативная гипотеза 1: Конверсия группы 246 статистически значимо отличается от конверсии группы 248*\n",
    "\n",
    "\n",
    "- Применим статистический Z-тест о равенстве долей разницу между выборками 247 и 248.\n",
    "\n",
    "*Нулевая гипотеза 1: По группам 247 и 248 нет оснований считать отличие конверсий статистически достоверным*\n",
    "\n",
    "*Альтернативная гипотеза 1: Конверсия группы 247 статистически значимо отличается от конверсии группы 248*\n",
    "\n",
    "\n",
    "- Применим статистический Z-тест о равенстве долей разницу между выборками 249 и 248, где группа 249 — совокупность групп 246 и 247.\n",
    "\n",
    "*Нулевая гипотеза 1: По группам 249 и 248 нет оснований считать отличие конверсий статистически достоверным*\n",
    "\n",
    "*Альтернативная гипотеза 1: Конверсия группы 249 статистически значимо отличается от конверсии группы 248*\n",
    "\n"
   ]
  },
  {
   "cell_type": "code",
   "execution_count": 51,
   "id": "34e0f14e",
   "metadata": {
    "scrolled": false
   },
   "outputs": [
    {
     "name": "stdout",
     "output_type": "stream",
     "text": [
      "Пользователей в группе 246 по событию MainScreenAppear — 2450\n",
      "Доля пользователей в группе 246 по событию MainScreenAppear — 0.986\n",
      "Пользователей в группе 248 по событию MainScreenAppear — 2493\n",
      "Доля пользователей в группе 248 по событию MainScreenAppear — 0.983\n",
      "\n",
      "p-значение:  0.2949721933554552\n",
      "Не получилось отвергнуть нулевую гипотезу, нет оснований считать отличие конверсий между группами статистически достоверным\n"
     ]
    }
   ],
   "source": [
    "# статистический Z-тест о равенстве долей разницу между выборками 246 и 248 для события MainScreenAppear\n",
    "z_value_func(logs_date, 'MainScreenAppear', '246', '248')"
   ]
  },
  {
   "cell_type": "code",
   "execution_count": 52,
   "id": "0120219b",
   "metadata": {
    "scrolled": false
   },
   "outputs": [
    {
     "name": "stdout",
     "output_type": "stream",
     "text": [
      "Пользователей в группе 247 по событию MainScreenAppear — 2476\n",
      "Доля пользователей в группе 247 по событию MainScreenAppear — 0.985\n",
      "Пользователей в группе 248 по событию MainScreenAppear — 2493\n",
      "Доля пользователей в группе 248 по событию MainScreenAppear — 0.983\n",
      "\n",
      "p-значение:  0.4587053616621515\n",
      "Не получилось отвергнуть нулевую гипотезу, нет оснований считать отличие конверсий между группами статистически достоверным\n"
     ]
    }
   ],
   "source": [
    "# статистический Z-тест о равенстве долей разницу между выборками 247 и 248 для события MainScreenAppear\n",
    "z_value_func(logs_date, 'MainScreenAppear', '247', '248')"
   ]
  },
  {
   "cell_type": "markdown",
   "id": "bc8e02b3",
   "metadata": {},
   "source": [
    "По событию MainScreenAppear нет оснований считать, что группы 246 и 248, а также 246 и 247 отличаются между собой.\n",
    "\n",
    "Сравнили результаты с каждой из контрольных групп в отдельности по каждому событию. Теперь сравним результаты с объединённой контрольной группой. Объединенная группа 249 будет состоять из суммы А-групп 246 и 247."
   ]
  },
  {
   "cell_type": "code",
   "execution_count": 53,
   "id": "a815a98d",
   "metadata": {},
   "outputs": [
    {
     "data": {
      "text/html": [
       "<div>\n",
       "<style scoped>\n",
       "    .dataframe tbody tr th:only-of-type {\n",
       "        vertical-align: middle;\n",
       "    }\n",
       "\n",
       "    .dataframe tbody tr th {\n",
       "        vertical-align: top;\n",
       "    }\n",
       "\n",
       "    .dataframe thead th {\n",
       "        text-align: right;\n",
       "    }\n",
       "</style>\n",
       "<table border=\"1\" class=\"dataframe\">\n",
       "  <thead>\n",
       "    <tr style=\"text-align: right;\">\n",
       "      <th></th>\n",
       "      <th>event_name</th>\n",
       "      <th>user_id</th>\n",
       "      <th>event_datetime</th>\n",
       "      <th>group</th>\n",
       "      <th>date</th>\n",
       "    </tr>\n",
       "  </thead>\n",
       "  <tbody>\n",
       "    <tr>\n",
       "      <td>2828</td>\n",
       "      <td>Tutorial</td>\n",
       "      <td>3737462046622621720</td>\n",
       "      <td>2019-08-01 00:07:28</td>\n",
       "      <td>249</td>\n",
       "      <td>2019-08-01</td>\n",
       "    </tr>\n",
       "    <tr>\n",
       "      <td>2829</td>\n",
       "      <td>MainScreenAppear</td>\n",
       "      <td>3737462046622621720</td>\n",
       "      <td>2019-08-01 00:08:00</td>\n",
       "      <td>249</td>\n",
       "      <td>2019-08-01</td>\n",
       "    </tr>\n",
       "    <tr>\n",
       "      <td>2830</td>\n",
       "      <td>MainScreenAppear</td>\n",
       "      <td>3737462046622621720</td>\n",
       "      <td>2019-08-01 00:08:55</td>\n",
       "      <td>249</td>\n",
       "      <td>2019-08-01</td>\n",
       "    </tr>\n",
       "    <tr>\n",
       "      <td>2831</td>\n",
       "      <td>OffersScreenAppear</td>\n",
       "      <td>3737462046622621720</td>\n",
       "      <td>2019-08-01 00:08:58</td>\n",
       "      <td>249</td>\n",
       "      <td>2019-08-01</td>\n",
       "    </tr>\n",
       "    <tr>\n",
       "      <td>2832</td>\n",
       "      <td>MainScreenAppear</td>\n",
       "      <td>1433840883824088890</td>\n",
       "      <td>2019-08-01 00:08:59</td>\n",
       "      <td>249</td>\n",
       "      <td>2019-08-01</td>\n",
       "    </tr>\n",
       "  </tbody>\n",
       "</table>\n",
       "</div>"
      ],
      "text/plain": [
       "              event_name              user_id      event_datetime  group  \\\n",
       "2828            Tutorial  3737462046622621720 2019-08-01 00:07:28    249   \n",
       "2829    MainScreenAppear  3737462046622621720 2019-08-01 00:08:00    249   \n",
       "2830    MainScreenAppear  3737462046622621720 2019-08-01 00:08:55    249   \n",
       "2831  OffersScreenAppear  3737462046622621720 2019-08-01 00:08:58    249   \n",
       "2832    MainScreenAppear  1433840883824088890 2019-08-01 00:08:59    249   \n",
       "\n",
       "           date  \n",
       "2828 2019-08-01  \n",
       "2829 2019-08-01  \n",
       "2830 2019-08-01  \n",
       "2831 2019-08-01  \n",
       "2832 2019-08-01  "
      ]
     },
     "execution_count": 53,
     "metadata": {},
     "output_type": "execute_result"
    }
   ],
   "source": [
    "# Копия датасета\n",
    "logs_date_union = logs_date.copy()\n",
    "\n",
    "# Заменим группы 247 и 246 на 249:\n",
    "logs_date_union.loc[logs_date_union['group']==246, 'group'] = 249\n",
    "logs_date_union.loc[logs_date_union['group']==247, 'group'] = 249\n",
    "logs_date_union.head()"
   ]
  },
  {
   "cell_type": "code",
   "execution_count": 54,
   "id": "8b6677e7",
   "metadata": {
    "scrolled": false
   },
   "outputs": [
    {
     "name": "stdout",
     "output_type": "stream",
     "text": [
      "Пользователей в группе 249 по событию MainScreenAppear — 4926\n",
      "Доля пользователей в группе 249 по событию MainScreenAppear — 0.986\n",
      "Пользователей в группе 248 по событию MainScreenAppear — 2493\n",
      "Доля пользователей в группе 248 по событию MainScreenAppear — 0.983\n",
      "\n",
      "p-значение:  0.29424526837179577\n",
      "Не получилось отвергнуть нулевую гипотезу, нет оснований считать отличие конверсий между группами статистически достоверным\n"
     ]
    }
   ],
   "source": [
    "# статистический Z-тест о равенстве долей разницу между выборками 249 (объединенные 246 и 247)\n",
    "# и 248 для события MainScreenAppear\n",
    "z_value_func(logs_date_union, 'MainScreenAppear', '249', '248')"
   ]
  },
  {
   "cell_type": "markdown",
   "id": "9b54db03",
   "metadata": {},
   "source": [
    "По событию MainScreenAppear нет оснований считать, что группы отличаются между собой, как по отдельности, так и при объединеннии контрольной группы."
   ]
  },
  {
   "cell_type": "code",
   "execution_count": 55,
   "id": "5a02ff5e",
   "metadata": {
    "scrolled": false
   },
   "outputs": [
    {
     "name": "stdout",
     "output_type": "stream",
     "text": [
      "Пользователей в группе 246 по событию OffersScreenAppear — 1542\n",
      "Доля пользователей в группе 246 по событию OffersScreenAppear — 0.621\n",
      "Пользователей в группе 248 по событию OffersScreenAppear — 1531\n",
      "Доля пользователей в группе 248 по событию OffersScreenAppear — 0.603\n",
      "\n",
      "p-значение:  0.20836205402738917\n",
      "Не получилось отвергнуть нулевую гипотезу, нет оснований считать отличие конверсий между группами статистически достоверным\n"
     ]
    }
   ],
   "source": [
    "# статистический Z-тест о равенстве долей разницу между выборками 246 и 248 для события OffersScreenAppear\n",
    "z_value_func(logs_date, 'OffersScreenAppear', '246', '248')"
   ]
  },
  {
   "cell_type": "code",
   "execution_count": 56,
   "id": "86476937",
   "metadata": {
    "scrolled": false
   },
   "outputs": [
    {
     "name": "stdout",
     "output_type": "stream",
     "text": [
      "Пользователей в группе 247 по событию OffersScreenAppear — 1520\n",
      "Доля пользователей в группе 247 по событию OffersScreenAppear — 0.605\n",
      "Пользователей в группе 248 по событию OffersScreenAppear — 1531\n",
      "Доля пользователей в группе 248 по событию OffersScreenAppear — 0.603\n",
      "\n",
      "p-значение:  0.9197817830592261\n",
      "Не получилось отвергнуть нулевую гипотезу, нет оснований считать отличие конверсий между группами статистически достоверным\n"
     ]
    }
   ],
   "source": [
    "# статистический Z-тест о равенстве долей разницу между выборками 247 и 248 для события OffersScreenAppear\n",
    "z_value_func(logs_date, 'OffersScreenAppear', '247', '248')"
   ]
  },
  {
   "cell_type": "code",
   "execution_count": 57,
   "id": "67bcf41a",
   "metadata": {
    "scrolled": false
   },
   "outputs": [
    {
     "name": "stdout",
     "output_type": "stream",
     "text": [
      "Пользователей в группе 249 по событию OffersScreenAppear — 3062\n",
      "Доля пользователей в группе 249 по событию OffersScreenAppear — 0.613\n",
      "Пользователей в группе 248 по событию OffersScreenAppear — 1531\n",
      "Доля пользователей в группе 248 по событию OffersScreenAppear — 0.603\n",
      "\n",
      "p-значение:  0.43425549655188256\n",
      "Не получилось отвергнуть нулевую гипотезу, нет оснований считать отличие конверсий между группами статистически достоверным\n"
     ]
    }
   ],
   "source": [
    "# статистический Z-тест о равенстве долей разницу между выборками 249 и 248 для события OffersScreenAppear\n",
    "z_value_func(logs_date_union, 'OffersScreenAppear', '249', '248')"
   ]
  },
  {
   "cell_type": "markdown",
   "id": "b09d2f52",
   "metadata": {},
   "source": [
    "По событию OffersScreenAppear нет оснований считать, что группы отличаются между собой, как по отдельности, так и при объединеннии контрольной группы. Посмотрим событие CartScreenAppear."
   ]
  },
  {
   "cell_type": "code",
   "execution_count": 58,
   "id": "2e1c3a06",
   "metadata": {
    "scrolled": false
   },
   "outputs": [
    {
     "name": "stdout",
     "output_type": "stream",
     "text": [
      "Пользователей в группе 246 по событию CartScreenAppear — 1266\n",
      "Доля пользователей в группе 246 по событию CartScreenAppear — 0.51\n",
      "Пользователей в группе 248 по событию CartScreenAppear — 1230\n",
      "Доля пользователей в группе 248 по событию CartScreenAppear — 0.485\n",
      "\n",
      "p-значение:  0.07842923237520116\n",
      "Не получилось отвергнуть нулевую гипотезу, нет оснований считать отличие конверсий между группами статистически достоверным\n"
     ]
    }
   ],
   "source": [
    "# статистический Z-тест о равенстве долей разницу между выборками 246 и 248 для события CartScreenAppear\n",
    "z_value_func(logs_date, 'CartScreenAppear', '246', '248')"
   ]
  },
  {
   "cell_type": "code",
   "execution_count": 59,
   "id": "6b6c202e",
   "metadata": {
    "scrolled": false
   },
   "outputs": [
    {
     "name": "stdout",
     "output_type": "stream",
     "text": [
      "Пользователей в группе 247 по событию CartScreenAppear — 1238\n",
      "Доля пользователей в группе 247 по событию CartScreenAppear — 0.493\n",
      "Пользователей в группе 248 по событию CartScreenAppear — 1230\n",
      "Доля пользователей в группе 248 по событию CartScreenAppear — 0.485\n",
      "\n",
      "p-значение:  0.5786197879539783\n",
      "Не получилось отвергнуть нулевую гипотезу, нет оснований считать отличие конверсий между группами статистически достоверным\n"
     ]
    }
   ],
   "source": [
    "# статистический Z-тест о равенстве долей разницу между выборками 247 и 248 для события CartScreenAppear\n",
    "z_value_func(logs_date, 'CartScreenAppear', '247', '248')"
   ]
  },
  {
   "cell_type": "code",
   "execution_count": 60,
   "id": "4bda7c0f",
   "metadata": {
    "scrolled": false
   },
   "outputs": [
    {
     "name": "stdout",
     "output_type": "stream",
     "text": [
      "Пользователей в группе 249 по событию CartScreenAppear — 2504\n",
      "Доля пользователей в группе 249 по событию CartScreenAppear — 0.501\n",
      "Пользователей в группе 248 по событию CartScreenAppear — 1230\n",
      "Доля пользователей в группе 248 по событию CartScreenAppear — 0.485\n",
      "\n",
      "p-значение:  0.18175875284404386\n",
      "Не получилось отвергнуть нулевую гипотезу, нет оснований считать отличие конверсий между группами статистически достоверным\n"
     ]
    }
   ],
   "source": [
    "# статистический Z-тест о равенстве долей разницу между выборками 249 и 248 для события CartScreenAppear\n",
    "z_value_func(logs_date_union, 'CartScreenAppear', '249', '248')"
   ]
  },
  {
   "cell_type": "markdown",
   "id": "222602f2",
   "metadata": {},
   "source": [
    "По событию CartScreenAppear  нет оснований считать, что группы отличаются между собой, как по отдельности, так и при объединеннии контрольной группы. Для проверки осталось только событие PaymentScreenSuccessful."
   ]
  },
  {
   "cell_type": "code",
   "execution_count": 61,
   "id": "dfb14d5c",
   "metadata": {
    "scrolled": false
   },
   "outputs": [
    {
     "name": "stdout",
     "output_type": "stream",
     "text": [
      "Пользователей в группе 246 по событию PaymentScreenSuccessful — 1200\n",
      "Доля пользователей в группе 246 по событию PaymentScreenSuccessful — 0.483\n",
      "Пользователей в группе 248 по событию PaymentScreenSuccessful — 1181\n",
      "Доля пользователей в группе 248 по событию PaymentScreenSuccessful — 0.466\n",
      "\n",
      "p-значение:  0.2122553275697796\n",
      "Не получилось отвергнуть нулевую гипотезу, нет оснований считать отличие конверсий между группами статистически достоверным\n"
     ]
    }
   ],
   "source": [
    "# статистический Z-тест о равенстве долей разницу между выборками 246 и 248 для события PaymentScreenSuccessful\n",
    "z_value_func(logs_date, 'PaymentScreenSuccessful', '246', '248')"
   ]
  },
  {
   "cell_type": "code",
   "execution_count": 62,
   "id": "7ff6cd2b",
   "metadata": {
    "scrolled": false
   },
   "outputs": [
    {
     "name": "stdout",
     "output_type": "stream",
     "text": [
      "Пользователей в группе 247 по событию PaymentScreenSuccessful — 1158\n",
      "Доля пользователей в группе 247 по событию PaymentScreenSuccessful — 0.461\n",
      "Пользователей в группе 248 по событию PaymentScreenSuccessful — 1181\n",
      "Доля пользователей в группе 248 по событию PaymentScreenSuccessful — 0.466\n",
      "\n",
      "p-значение:  0.7373415053803964\n",
      "Не получилось отвергнуть нулевую гипотезу, нет оснований считать отличие конверсий между группами статистически достоверным\n"
     ]
    }
   ],
   "source": [
    "# статистический Z-тест о равенстве долей разницу между выборками 247 и 248 для события PaymentScreenSuccessful\n",
    "z_value_func(logs_date, 'PaymentScreenSuccessful', '247', '248')"
   ]
  },
  {
   "cell_type": "code",
   "execution_count": 63,
   "id": "ecd5672b",
   "metadata": {
    "scrolled": false
   },
   "outputs": [
    {
     "name": "stdout",
     "output_type": "stream",
     "text": [
      "Пользователей в группе 249 по событию PaymentScreenSuccessful — 2358\n",
      "Доля пользователей в группе 249 по событию PaymentScreenSuccessful — 0.472\n",
      "Пользователей в группе 248 по событию PaymentScreenSuccessful — 1181\n",
      "Доля пользователей в группе 248 по событию PaymentScreenSuccessful — 0.466\n",
      "\n",
      "p-значение:  0.6004294282308704\n",
      "Не получилось отвергнуть нулевую гипотезу, нет оснований считать отличие конверсий между группами статистически достоверным\n"
     ]
    }
   ],
   "source": [
    "# статистический Z-тест о равенстве долей разницу между выборками 249 и 248 для события PaymentScreenSuccessful\n",
    "z_value_func(logs_date_union, 'PaymentScreenSuccessful', '249', '248')"
   ]
  },
  {
   "cell_type": "markdown",
   "id": "b74f3403",
   "metadata": {},
   "source": [
    "Уровень значимости был выбран 0.05, что означает, что мы допускаем 5% вероятность ошибки в полученном результате, те из 20 экспериментов 1 может быть ошибочен. С учетом поправки на множественные тесты, уровень значимости составил 0.003. Если применять уровень значимости 0.1, то с учетом поправок на множественныек тесты, уровень значимости составит 0.06. В любом случае, все проведенные статистические тесты показали p-value выше 0.06, те и при уровне 0.1 мы получим те же результаты, а именно, что нет нет оснований считать отличие колнверсий между группами статистически достоверным."
   ]
  },
  {
   "cell_type": "markdown",
   "id": "bc67cd4b",
   "metadata": {},
   "source": [
    "### Вывод\n",
    "\n",
    "Для проверки гипотез был выбран уровень значимости 0.05, с учетом поправок на множественные тесты — 0.003. Проведено 16 статистических тестов, все p-value были выше уровня значимости.\n",
    "\n",
    "По всем событиям нет оснований считать, что группы отличаются между собой, как по отдельности, так и при объединеннии контрольной группы. Таким образом, введение нового шрифта никак не повлияло на конверсию группы В. "
   ]
  },
  {
   "cell_type": "markdown",
   "id": "09805ec0",
   "metadata": {},
   "source": [
    "## Вывод\n",
    "\n",
    "В ходе исследования была проанализирована воронка продаж и изучены результаты A/A/B-эксперимента после замены шрифта в приложении.\n",
    "\n",
    "Предоставленные данные были обработаны.  Определена дата, начиная с которой данные являются полными — с 01.08.2019, отброшены более старые данные. Количество отброшенных записей и пользователей не значительно.\n",
    "\n",
    "**Воронка событий:**\n",
    "\n",
    "Примерно 48% пользователей совершают оплату из всех, кто просмотрел главную страницу. \n",
    "\n",
    "Больше всего пользователей в процентном отношении отсеялось между событиями MainScreenAppear и OffersScreenAppear (38%).\n",
    "\n",
    "Примерно каждый четвертый, кто просматривал Tutorial, произвел оплату. Если Tutorial открывают, то чаще всего это делают после просмотра MainScreen.\n",
    "\n",
    "**А/А/В тестирование:** \n",
    "\n",
    "Разбиение на группы А/А проведено корректно, тесты показывают отсутствие статистической значимости между контрольными группами для А/А-эксперимента.\n",
    "\n",
    "По всем событиям нет оснований считать, что группы А/В отличаются между собой, как по отдельности, так и при объединеннии контрольной группы А/А и сравнении ее с группой В. \n",
    "\n",
    "Таким образом, введение нового шрифта не повлияло на конверсию группы В. "
   ]
  }
 ],
 "metadata": {
  "ExecuteTimeLog": [
   {
    "duration": 101187,
    "start_time": "2021-09-15T13:17:42.168Z"
   },
   {
    "duration": 6,
    "start_time": "2021-09-15T13:19:23.358Z"
   },
   {
    "duration": 242,
    "start_time": "2021-09-15T13:19:23.367Z"
   },
   {
    "duration": 14,
    "start_time": "2021-09-15T13:19:23.612Z"
   },
   {
    "duration": 21,
    "start_time": "2021-09-15T13:19:23.628Z"
   },
   {
    "duration": 20,
    "start_time": "2021-09-15T13:19:23.652Z"
   },
   {
    "duration": 56,
    "start_time": "2021-09-15T13:19:23.675Z"
   },
   {
    "duration": 14,
    "start_time": "2021-09-15T13:19:23.734Z"
   },
   {
    "duration": 101,
    "start_time": "2021-09-15T13:19:23.752Z"
   },
   {
    "duration": 165,
    "start_time": "2021-09-15T13:19:23.857Z"
   },
   {
    "duration": 185,
    "start_time": "2021-09-15T13:19:24.025Z"
   },
   {
    "duration": 32,
    "start_time": "2021-09-15T13:19:24.216Z"
   },
   {
    "duration": 9,
    "start_time": "2021-09-15T13:19:24.250Z"
   },
   {
    "duration": 7,
    "start_time": "2021-09-15T13:19:24.262Z"
   },
   {
    "duration": 4,
    "start_time": "2021-09-15T13:19:24.272Z"
   },
   {
    "duration": 44,
    "start_time": "2021-09-15T13:19:24.278Z"
   },
   {
    "duration": 1466,
    "start_time": "2021-09-15T13:19:24.325Z"
   },
   {
    "duration": 40,
    "start_time": "2021-09-15T13:19:25.793Z"
   },
   {
    "duration": 4,
    "start_time": "2021-09-15T13:19:25.836Z"
   },
   {
    "duration": 9,
    "start_time": "2021-09-15T13:19:25.843Z"
   },
   {
    "duration": 4,
    "start_time": "2021-09-15T13:19:25.855Z"
   },
   {
    "duration": 55,
    "start_time": "2021-09-15T13:19:25.861Z"
   },
   {
    "duration": 380838,
    "start_time": "2021-09-15T13:19:25.919Z"
   },
   {
    "duration": 963,
    "start_time": "2021-09-15T13:25:46.760Z"
   },
   {
    "duration": 273,
    "start_time": "2021-09-15T13:25:47.726Z"
   },
   {
    "duration": 218,
    "start_time": "2021-09-15T13:25:48.002Z"
   },
   {
    "duration": 1230,
    "start_time": "2021-09-15T13:25:48.230Z"
   },
   {
    "duration": 54,
    "start_time": "2021-09-15T13:25:49.463Z"
   },
   {
    "duration": 7,
    "start_time": "2021-09-15T13:25:49.520Z"
   },
   {
    "duration": 220,
    "start_time": "2021-09-15T13:25:49.530Z"
   },
   {
    "duration": 18,
    "start_time": "2021-09-15T13:25:49.754Z"
   },
   {
    "duration": 115,
    "start_time": "2021-09-15T13:25:49.775Z"
   },
   {
    "duration": 11,
    "start_time": "2021-09-15T13:25:49.893Z"
   },
   {
    "duration": 9,
    "start_time": "2021-09-15T13:25:49.917Z"
   },
   {
    "duration": 9,
    "start_time": "2021-09-15T13:25:49.929Z"
   },
   {
    "duration": 9,
    "start_time": "2021-09-15T13:25:49.940Z"
   },
   {
    "duration": 76,
    "start_time": "2021-09-15T13:25:49.952Z"
   },
   {
    "duration": 48,
    "start_time": "2021-09-15T13:25:50.030Z"
   },
   {
    "duration": 42,
    "start_time": "2021-09-15T13:25:50.081Z"
   },
   {
    "duration": 92,
    "start_time": "2021-09-15T13:25:50.126Z"
   },
   {
    "duration": 100,
    "start_time": "2021-09-15T13:25:50.221Z"
   },
   {
    "duration": 96,
    "start_time": "2021-09-15T13:25:50.324Z"
   },
   {
    "duration": 119,
    "start_time": "2021-09-15T13:25:50.424Z"
   },
   {
    "duration": 108,
    "start_time": "2021-09-15T13:25:50.546Z"
   },
   {
    "duration": 113,
    "start_time": "2021-09-15T13:25:50.658Z"
   },
   {
    "duration": 59,
    "start_time": "2021-09-15T13:25:50.773Z"
   },
   {
    "duration": 116,
    "start_time": "2021-09-15T13:25:50.835Z"
   },
   {
    "duration": 99,
    "start_time": "2021-09-15T13:25:50.953Z"
   },
   {
    "duration": 107,
    "start_time": "2021-09-15T13:25:51.054Z"
   },
   {
    "duration": 126,
    "start_time": "2021-09-15T13:25:51.164Z"
   },
   {
    "duration": 108,
    "start_time": "2021-09-15T13:25:51.293Z"
   },
   {
    "duration": 105,
    "start_time": "2021-09-15T13:25:51.417Z"
   },
   {
    "duration": 113,
    "start_time": "2021-09-15T13:25:51.525Z"
   },
   {
    "duration": 92,
    "start_time": "2021-09-15T13:25:51.641Z"
   },
   {
    "duration": 93,
    "start_time": "2021-09-15T13:25:51.736Z"
   },
   {
    "duration": 125,
    "start_time": "2021-09-15T13:25:51.832Z"
   },
   {
    "duration": 83074,
    "start_time": "2021-09-17T12:09:09.028Z"
   },
   {
    "duration": 4,
    "start_time": "2021-09-17T12:10:32.104Z"
   },
   {
    "duration": 154,
    "start_time": "2021-09-17T12:10:32.113Z"
   },
   {
    "duration": 11,
    "start_time": "2021-09-17T12:10:32.268Z"
   },
   {
    "duration": 16,
    "start_time": "2021-09-17T12:10:32.281Z"
   },
   {
    "duration": 15,
    "start_time": "2021-09-17T12:10:32.299Z"
   },
   {
    "duration": 14,
    "start_time": "2021-09-17T12:10:32.316Z"
   },
   {
    "duration": 7,
    "start_time": "2021-09-17T12:10:32.349Z"
   },
   {
    "duration": 61,
    "start_time": "2021-09-17T12:10:32.358Z"
   },
   {
    "duration": 116,
    "start_time": "2021-09-17T12:10:32.421Z"
   },
   {
    "duration": 114,
    "start_time": "2021-09-17T12:10:32.539Z"
   },
   {
    "duration": 24,
    "start_time": "2021-09-17T12:10:32.655Z"
   },
   {
    "duration": 6,
    "start_time": "2021-09-17T12:10:32.681Z"
   },
   {
    "duration": 9,
    "start_time": "2021-09-17T12:10:32.688Z"
   },
   {
    "duration": 3,
    "start_time": "2021-09-17T12:10:32.699Z"
   },
   {
    "duration": 14,
    "start_time": "2021-09-17T12:10:32.703Z"
   },
   {
    "duration": 1111,
    "start_time": "2021-09-17T12:10:32.718Z"
   },
   {
    "duration": 39,
    "start_time": "2021-09-17T12:10:33.831Z"
   },
   {
    "duration": 4,
    "start_time": "2021-09-17T12:10:33.872Z"
   },
   {
    "duration": 11,
    "start_time": "2021-09-17T12:10:33.879Z"
   },
   {
    "duration": 4,
    "start_time": "2021-09-17T12:10:33.892Z"
   },
   {
    "duration": 9,
    "start_time": "2021-09-17T12:10:33.898Z"
   },
   {
    "duration": 11,
    "start_time": "2021-09-17T12:10:33.909Z"
   },
   {
    "duration": 214352,
    "start_time": "2021-09-17T12:10:33.950Z"
   },
   {
    "duration": 734,
    "start_time": "2021-09-17T12:14:08.304Z"
   },
   {
    "duration": 289,
    "start_time": "2021-09-17T12:14:09.042Z"
   },
   {
    "duration": 283,
    "start_time": "2021-09-17T12:14:09.334Z"
   },
   {
    "duration": 584,
    "start_time": "2021-09-17T12:14:09.619Z"
   },
   {
    "duration": 26,
    "start_time": "2021-09-17T12:14:10.204Z"
   },
   {
    "duration": 24,
    "start_time": "2021-09-17T12:14:10.232Z"
   },
   {
    "duration": 297,
    "start_time": "2021-09-17T12:14:10.257Z"
   },
   {
    "duration": 11,
    "start_time": "2021-09-17T12:14:10.555Z"
   },
   {
    "duration": 87,
    "start_time": "2021-09-17T12:14:10.568Z"
   },
   {
    "duration": 7,
    "start_time": "2021-09-17T12:14:10.657Z"
   },
   {
    "duration": 18,
    "start_time": "2021-09-17T12:14:10.666Z"
   },
   {
    "duration": 29,
    "start_time": "2021-09-17T12:14:10.686Z"
   },
   {
    "duration": 20,
    "start_time": "2021-09-17T12:14:10.716Z"
   },
   {
    "duration": 38,
    "start_time": "2021-09-17T12:14:10.737Z"
   },
   {
    "duration": 25,
    "start_time": "2021-09-17T12:14:10.776Z"
   },
   {
    "duration": 162,
    "start_time": "2021-09-17T12:14:10.803Z"
   },
   {
    "duration": 249,
    "start_time": "2021-09-17T12:14:10.968Z"
   },
   {
    "duration": 5,
    "start_time": "2021-09-17T12:14:11.220Z"
   },
   {
    "duration": 171,
    "start_time": "2021-09-17T12:14:11.227Z"
   },
   {
    "duration": 36,
    "start_time": "2021-09-17T12:14:11.400Z"
   },
   {
    "duration": 15,
    "start_time": "2021-09-17T12:14:11.438Z"
   },
   {
    "duration": 72,
    "start_time": "2021-09-17T12:14:11.454Z"
   },
   {
    "duration": 50,
    "start_time": "2021-09-17T12:14:11.528Z"
   },
   {
    "duration": 70,
    "start_time": "2021-09-17T12:14:11.581Z"
   },
   {
    "duration": 55,
    "start_time": "2021-09-17T12:14:11.653Z"
   },
   {
    "duration": 73,
    "start_time": "2021-09-17T12:14:11.709Z"
   },
   {
    "duration": 70,
    "start_time": "2021-09-17T12:14:11.783Z"
   },
   {
    "duration": 30,
    "start_time": "2021-09-17T12:14:11.854Z"
   },
   {
    "duration": 76,
    "start_time": "2021-09-17T12:14:11.886Z"
   },
   {
    "duration": 48,
    "start_time": "2021-09-17T12:14:11.964Z"
   },
   {
    "duration": 66,
    "start_time": "2021-09-17T12:14:12.014Z"
   },
   {
    "duration": 69,
    "start_time": "2021-09-17T12:14:12.082Z"
   },
   {
    "duration": 57,
    "start_time": "2021-09-17T12:14:12.152Z"
   },
   {
    "duration": 72,
    "start_time": "2021-09-17T12:14:12.211Z"
   },
   {
    "duration": 70,
    "start_time": "2021-09-17T12:14:12.285Z"
   },
   {
    "duration": 53,
    "start_time": "2021-09-17T12:14:12.356Z"
   },
   {
    "duration": 70,
    "start_time": "2021-09-17T12:14:12.411Z"
   },
   {
    "duration": 68,
    "start_time": "2021-09-17T12:14:12.483Z"
   }
  ],
  "kernelspec": {
   "display_name": "Python 3",
   "language": "python",
   "name": "python3"
  },
  "language_info": {
   "codemirror_mode": {
    "name": "ipython",
    "version": 3
   },
   "file_extension": ".py",
   "mimetype": "text/x-python",
   "name": "python",
   "nbconvert_exporter": "python",
   "pygments_lexer": "ipython3",
   "version": "3.7.10"
  },
  "toc": {
   "base_numbering": 1,
   "nav_menu": {},
   "number_sections": true,
   "sideBar": true,
   "skip_h1_title": false,
   "title_cell": "Table of Contents",
   "title_sidebar": "Contents",
   "toc_cell": false,
   "toc_position": {},
   "toc_section_display": true,
   "toc_window_display": false
  }
 },
 "nbformat": 4,
 "nbformat_minor": 5
}
